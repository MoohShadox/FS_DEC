{
 "cells": [
  {
   "cell_type": "code",
   "execution_count": 1,
   "metadata": {},
   "outputs": [],
   "source": [
    "import pandas as pd\n",
    "import numpy as np\n",
    "import seaborn as sns\n",
    "from pref.utility.Additive_Utility_Model import *\n",
    "import numpy as np\n",
    "import pandas as pd\n",
    "from sklearn.datasets import make_classification\n",
    "from sklearn.ensemble import RandomForestClassifier\n",
    "from sklearn.linear_model import LogisticRegression\n",
    "from sklearn.tree import DecisionTreeClassifier\n",
    "from feature_selection.evaluation.Classification_Evaluation import Classification_Evaluator\n",
    "from feature_selection.wrapper_fishburn import Wrapper_Fishburn\n",
    "from feature_selection.wrapper_local_search import Wrapper_Local_Search\n",
    "from feature_selection.wrapper_stochastic_local_search import Wrapper_Stochastic_Local_Search\n",
    "from feature_selection.wrapper_model import Wrapper_Model\n",
    "from feature_selection.wrapper_nsga2 import Wrapper_NSGA2\n",
    "from pref.utility.Preferences import sampleSubset"
   ]
  },
  {
   "cell_type": "markdown",
   "metadata": {},
   "source": [
    "# Utilisation d'une approche ordinale pour la sélection d'attributs\n",
    "\n",
    "Ce notebook contient une démonstration du code qui a été développé jusque ici, une explication du framework utilisé pour faire de la sélection d'attributs (avec pseudo-code) et enfin une étude expérimentale comparative de plusieurs approches de sélection d'attributs."
   ]
  },
  {
   "cell_type": "markdown",
   "metadata": {},
   "source": [
    "## Module de manipulation d'utilité additive\n",
    "\n",
    "Le premier module développé sert à construire et a ajuster un modèle d'utilité additive sur des préférences."
   ]
  },
  {
   "cell_type": "code",
   "execution_count": 2,
   "metadata": {},
   "outputs": [
    {
     "data": {
      "text/plain": [
       "[((1, 2, 4), (0,)),\n",
       " ((1, 2, 4), (1, 2)),\n",
       " ((1, 2, 4), (2, 4)),\n",
       " ((1, 2, 4), (1, 3)),\n",
       " ((1, 2, 4), (0, 1)),\n",
       " ((1, 2, 4), (0, 1, 3)),\n",
       " ((1, 2, 4), (0, 3)),\n",
       " ((1, 2, 4), (1,)),\n",
       " ((1, 2, 4), (1, 4)),\n",
       " ((1, 2, 4), (0, 3, 4))]"
      ]
     },
     "execution_count": 2,
     "metadata": {},
     "output_type": "execute_result"
    }
   ],
   "source": [
    "n_items = 5\n",
    "k = 1\n",
    "items, R = sampler2(n_items, max_subsets=20) #Permet de tirer une relation en tirant un ordre aléatoire sur 20 \n",
    "                                             #sous-ensembles\n",
    "R[0:10] # [((1,) , (3,))] signifie que 1 est préféré a 3."
   ]
  },
  {
   "cell_type": "markdown",
   "metadata": {},
   "source": [
    "On instancie le modèle comme suit"
   ]
  },
  {
   "cell_type": "code",
   "execution_count": 3,
   "metadata": {},
   "outputs": [],
   "source": [
    "m = Additive_Utility_Model(items)"
   ]
  },
  {
   "cell_type": "markdown",
   "metadata": {},
   "source": [
    "On peut fixer les paramètres soi-même"
   ]
  },
  {
   "cell_type": "code",
   "execution_count": 4,
   "metadata": {},
   "outputs": [
    {
     "data": {
      "text/plain": [
       "[(1,), (2,), (3,)]"
      ]
     },
     "execution_count": 4,
     "metadata": {},
     "output_type": "execute_result"
    }
   ],
   "source": [
    "m.theta = [(1, ), (2, ), (3, )]\n",
    "m.theta"
   ]
  },
  {
   "cell_type": "markdown",
   "metadata": {},
   "source": [
    "ou les générer de façon a avoir une fonction k-additive"
   ]
  },
  {
   "cell_type": "code",
   "execution_count": 5,
   "metadata": {},
   "outputs": [
    {
     "data": {
      "text/plain": [
       "{(0,): docplex.mp.Var(type=C,name='u_0',lb=-1e+20),\n",
       " (1,): docplex.mp.Var(type=C,name='u_1',lb=-1e+20),\n",
       " (2,): docplex.mp.Var(type=C,name='u_2',lb=-1e+20),\n",
       " (3,): docplex.mp.Var(type=C,name='u_3',lb=-1e+20),\n",
       " (4,): docplex.mp.Var(type=C,name='u_4',lb=-1e+20)}"
      ]
     },
     "execution_count": 5,
     "metadata": {},
     "output_type": "execute_result"
    }
   ],
   "source": [
    "m.create_params(1)\n",
    "m.theta"
   ]
  },
  {
   "cell_type": "code",
   "execution_count": 6,
   "metadata": {},
   "outputs": [
    {
     "data": {
      "text/plain": [
       "{(0,): docplex.mp.Var(type=C,name='u_0',lb=-1e+20),\n",
       " (1,): docplex.mp.Var(type=C,name='u_1',lb=-1e+20),\n",
       " (2,): docplex.mp.Var(type=C,name='u_2',lb=-1e+20),\n",
       " (3,): docplex.mp.Var(type=C,name='u_3',lb=-1e+20),\n",
       " (4,): docplex.mp.Var(type=C,name='u_4',lb=-1e+20),\n",
       " (0, 1): docplex.mp.Var(type=C,name='u_0_1',lb=-1e+20),\n",
       " (0, 2): docplex.mp.Var(type=C,name='u_0_2',lb=-1e+20),\n",
       " (0, 3): docplex.mp.Var(type=C,name='u_0_3',lb=-1e+20),\n",
       " (0, 4): docplex.mp.Var(type=C,name='u_0_4',lb=-1e+20),\n",
       " (1, 2): docplex.mp.Var(type=C,name='u_1_2',lb=-1e+20),\n",
       " (1, 3): docplex.mp.Var(type=C,name='u_1_3',lb=-1e+20),\n",
       " (1, 4): docplex.mp.Var(type=C,name='u_1_4',lb=-1e+20),\n",
       " (2, 3): docplex.mp.Var(type=C,name='u_2_3',lb=-1e+20),\n",
       " (2, 4): docplex.mp.Var(type=C,name='u_2_4',lb=-1e+20),\n",
       " (3, 4): docplex.mp.Var(type=C,name='u_3_4',lb=-1e+20)}"
      ]
     },
     "execution_count": 6,
     "metadata": {},
     "output_type": "execute_result"
    }
   ],
   "source": [
    "m.create_params(2)\n",
    "m.theta"
   ]
  },
  {
   "cell_type": "markdown",
   "metadata": {},
   "source": [
    "Chaque modèle pose des bornes sur les utilités qu'on peut modifier"
   ]
  },
  {
   "cell_type": "code",
   "execution_count": 7,
   "metadata": {},
   "outputs": [],
   "source": [
    "m.utility_lb = -1\n",
    "m.utility_ub = +1"
   ]
  },
  {
   "cell_type": "markdown",
   "metadata": {},
   "source": [
    "On peut ajouter les contraintes une a une"
   ]
  },
  {
   "cell_type": "code",
   "execution_count": 8,
   "metadata": {},
   "outputs": [],
   "source": [
    "m.add_strict_preference(*R[0])"
   ]
  },
  {
   "cell_type": "markdown",
   "metadata": {},
   "source": [
    "Ou en ajouter plusieurs a la fois:"
   ]
  },
  {
   "cell_type": "code",
   "execution_count": 9,
   "metadata": {},
   "outputs": [],
   "source": [
    "m.create_polyhedron(R[1:])"
   ]
  },
  {
   "cell_type": "markdown",
   "metadata": {},
   "source": [
    "Chaque préférence stricte conduit a créer des variables d'écarts epsilon dont la borne inférieur est supérieur a 1e-4.\n",
    "\n",
    "On peut ensuite créer des objectifs génériques : \n",
    "- MDVF (Most Discriminant Value Function): Maximise la somme des epsilons pour avoir la fonction qui creuse le plus les préférences strictes.\n",
    "- MV (Maximum Value): Maximise la somme des utilités des sous-ensembles évalués\n",
    "- SE (Simplest Explication): Minimise la somme des $\\theta$ pour obtenir une fonction qui utilise le moins de paramètres possible."
   ]
  },
  {
   "cell_type": "code",
   "execution_count": 10,
   "metadata": {},
   "outputs": [
    {
     "data": {
      "text/plain": [
       "{'MV': (docplex.mp.LinearExpr(5u_0+7u_1+3u_2+4u_3+4u_4+2u_0_1+3u_0_3+u_0_4+2u_1_2+2u_1_3+2u_1_4+2u_2_4+u_3_4),\n",
       "  1),\n",
       " 'MDVF': (docplex.mp.LinearExpr(p_124_0+p_124_12+p_124_24+p_124_13+p_124_01+p_124_013+p_124_03+p_124_1+p_124_14+p_124_034+p_0_12+p_0_24+p_0_13+p_0_01+p_0_013+p_0_03+p_0_1+p_0_14+p_0_034+p_12_24+p_12_13+p_12_01+p_12_013+p_12_03+p_12_1+p_12_14+p_12_034+p_24_13+p_24_01+p_24_013+p_24_03+p_24_1+p_24_14+p_24_034+p_13_01+p_13_013+p_13_03+p_13_1+p_13_14+p_13_034+p_01_013+p_01_03+p_01_1+p_01_14+p_01_034+p_013_03+p_013_1+p_013_14+p_013_034+p_03_1+p_03_14+p_03_034+p_1_14+p_1_034+p_14_034),\n",
       "  1),\n",
       " 'SE': (docplex.mp.LinearExpr(_abs70+_abs73+_abs76+_abs79+_abs82+_abs85+_abs88+_abs91+_abs94+_abs97+_abs100+_abs103+_abs106+_abs109+_abs112),\n",
       "  -1)}"
      ]
     },
     "execution_count": 10,
     "metadata": {},
     "output_type": "execute_result"
    }
   ],
   "source": [
    "m.build_objectifs()\n",
    "m.objectifs"
   ]
  },
  {
   "cell_type": "markdown",
   "metadata": {},
   "source": [
    "On peut également créer son propre objectif, et on est souvent amener a le faire si on veut évaluer la valeur maximale que pourrait atteindre un sous-ensemble, pour se faire on récupére l'expression qui représente l'utilité d'un sous-ensemble."
   ]
  },
  {
   "cell_type": "code",
   "execution_count": 11,
   "metadata": {},
   "outputs": [
    {
     "data": {
      "text/plain": [
       "docplex.mp.LinearExpr(u_1+u_2+u_1_2)"
      ]
     },
     "execution_count": 11,
     "metadata": {},
     "output_type": "execute_result"
    }
   ],
   "source": [
    "m.get_utility_exp((1,2))"
   ]
  },
  {
   "cell_type": "markdown",
   "metadata": {},
   "source": [
    "et on l'ajoute comme objectif"
   ]
  },
  {
   "cell_type": "code",
   "execution_count": 12,
   "metadata": {},
   "outputs": [
    {
     "data": {
      "text/plain": [
       "{'MV': (docplex.mp.LinearExpr(5u_0+7u_1+3u_2+4u_3+4u_4+2u_0_1+3u_0_3+u_0_4+2u_1_2+2u_1_3+2u_1_4+2u_2_4+u_3_4),\n",
       "  1),\n",
       " 'MDVF': (docplex.mp.LinearExpr(p_124_0+p_124_12+p_124_24+p_124_13+p_124_01+p_124_013+p_124_03+p_124_1+p_124_14+p_124_034+p_0_12+p_0_24+p_0_13+p_0_01+p_0_013+p_0_03+p_0_1+p_0_14+p_0_034+p_12_24+p_12_13+p_12_01+p_12_013+p_12_03+p_12_1+p_12_14+p_12_034+p_24_13+p_24_01+p_24_013+p_24_03+p_24_1+p_24_14+p_24_034+p_13_01+p_13_013+p_13_03+p_13_1+p_13_14+p_13_034+p_01_013+p_01_03+p_01_1+p_01_14+p_01_034+p_013_03+p_013_1+p_013_14+p_013_034+p_03_1+p_03_14+p_03_034+p_1_14+p_1_034+p_14_034),\n",
       "  1),\n",
       " 'SE': (docplex.mp.LinearExpr(_abs70+_abs73+_abs76+_abs79+_abs82+_abs85+_abs88+_abs91+_abs94+_abs97+_abs100+_abs103+_abs106+_abs109+_abs112),\n",
       "  -1),\n",
       " 'U_{1,2}': (docplex.mp.LinearExpr(u_1+u_2+u_1_2), 1)}"
      ]
     },
     "execution_count": 12,
     "metadata": {},
     "output_type": "execute_result"
    }
   ],
   "source": [
    "m.add_objectif(\"U_{1,2}\", m.get_utility_exp((1,2)), sense = +1) #+1 pour maximiser -1 pour minimiser\n",
    "m.objectifs"
   ]
  },
  {
   "cell_type": "markdown",
   "metadata": {},
   "source": [
    "Ensuite on peut optimiser sur un objectif"
   ]
  },
  {
   "cell_type": "code",
   "execution_count": 13,
   "metadata": {},
   "outputs": [],
   "source": [
    "m.optimize(\"MV\")"
   ]
  },
  {
   "cell_type": "markdown",
   "metadata": {},
   "source": [
    "Ou sur plusieurs dans l'ordre lexicographique."
   ]
  },
  {
   "cell_type": "code",
   "execution_count": 14,
   "metadata": {},
   "outputs": [],
   "source": [
    "m.optimize_lex([\"MDVF\", \"SE\"])"
   ]
  },
  {
   "cell_type": "markdown",
   "metadata": {},
   "source": [
    "On peut ensuite accéder aux paramètres"
   ]
  },
  {
   "cell_type": "code",
   "execution_count": 15,
   "metadata": {},
   "outputs": [
    {
     "data": {
      "text/plain": [
       "{'u_0': 0.9999900000000002,\n",
       " 'u_1': -0.999980000000001,\n",
       " 'u_2': 0.9999500000000001,\n",
       " 'u_3': 0.9999499999999775,\n",
       " 'u_4': -1e-05,\n",
       " 'u_0_3': -2.9999099999999785,\n",
       " 'u_0_4': -1.999999999946489e-05,\n",
       " 'u_1_2': 1.000010000000001,\n",
       " 'u_1_3': 0.9999900000000009,\n",
       " 'u_2_4': 2.999999999997449e-05}"
      ]
     },
     "execution_count": 15,
     "metadata": {},
     "output_type": "execute_result"
    }
   ],
   "source": [
    "m.get_params_values()"
   ]
  },
  {
   "cell_type": "markdown",
   "metadata": {},
   "source": [
    "Ou calculer l'utilité de n'importe quel sous-ensemble."
   ]
  },
  {
   "cell_type": "code",
   "execution_count": 16,
   "metadata": {},
   "outputs": [
    {
     "data": {
      "text/plain": [
       "1.9998999999999776"
      ]
     },
     "execution_count": 16,
     "metadata": {},
     "output_type": "execute_result"
    }
   ],
   "source": [
    "m.get_utility_exp((2,3)).solution_value"
   ]
  },
  {
   "cell_type": "markdown",
   "metadata": {},
   "source": [
    "On peut aussi tester l'adéquation du modèle par rapport aux préférences renseignées c'est a dire la proportion de préférences qu'il modélise (qui peut être <1 si éventuellement les préférences ne sont pas additivement représentable)"
   ]
  },
  {
   "cell_type": "code",
   "execution_count": 17,
   "metadata": {},
   "outputs": [
    {
     "data": {
      "text/plain": [
       "1.0"
      ]
     },
     "execution_count": 17,
     "metadata": {},
     "output_type": "execute_result"
    }
   ],
   "source": [
    "m.adequancy()"
   ]
  },
  {
   "cell_type": "markdown",
   "metadata": {},
   "source": [
    "## Module de prototypage d'une wrapper method"
   ]
  },
  {
   "cell_type": "markdown",
   "metadata": {},
   "source": [
    "Ce module permet de concevoir de manière très abstraite une wrapper méthode.\n",
    "Toute wrapper methode doit dériver de la classe \"Wrapper Model\" dont elle peut redéfinir 4 méthodes:\n",
    "- initSubset : Sert a initialiser le sous-ensemble d'attributs a tester.\n",
    "- evaluateSubset: exprime comment les sous-ensembles sont évalués (quel classeur etc..) (par défaut il faut lui transmettre un évaluateur a l'instanciation) \n",
    "- nextSubset: exprime comment passer d'un subset a l'autre (par défaut il faut lui transmettre une fonction qui tire un sous-ensemble aléatoire)\n",
    "- testStop: permet d'implémenter une condition d'arrêt a la recherche.\n",
    "\n",
    "Ces fonctions sont par la suite exploitée par la méthode run qui exprime le déroulé générale de la recherche du meilleur sous-ensemble d'attributs (et qu'on peut parfois être amené à redéfinir).\n",
    "\n",
    "On utilisera la méthode \"make_classification\" de scikit learn pour générer des ensembles de données, pour ce qui est des classeurs employés on utilisera la classe \"Classification Evaluation\" pour faire l'intermédiaire entre le classeur de scikit et la fonction d'évaluation utilisée par notre wrapper méthode.\n",
    "\n",
    "Cet intermédiaire va en réalité évaluer chaque subset en restreignant la base de données aux colonnes présentes dans le subset puis effectuer une k-fold validation."
   ]
  },
  {
   "cell_type": "code",
   "execution_count": 45,
   "metadata": {},
   "outputs": [
    {
     "data": {
      "text/plain": [
       "(0.526, -2)"
      ]
     },
     "execution_count": 45,
     "metadata": {},
     "output_type": "execute_result"
    }
   ],
   "source": [
    "X,y = make_classification(n_samples=500, n_features=20, n_informative=4)\n",
    "evaluator = Classification_Evaluator(X,y, cls=RandomForestClassifier())\n",
    "evaluator.evaluate([1, 2]) #Renvoie (la précision, la taille) (en négatif pour maximiser sur tous les objectifs)"
   ]
  },
  {
   "cell_type": "code",
   "execution_count": 46,
   "metadata": {},
   "outputs": [],
   "source": [
    "wm = Wrapper_Model(X, y, sampler=sampleSubset, evaluation=evaluator.evaluate)\n",
    "wm.run(max_step=30)"
   ]
  },
  {
   "cell_type": "markdown",
   "metadata": {},
   "source": [
    "Ensuite on peut accéder aux \"meilleurs éléments\" en utilisant un aggrégateur des objectifs qui permettrait de les classer, par exemple si on veut accéder aux \"meilleures précisions\" on utiliserais un aggrégateur qui renvoi pour chaque x x[0] comme suit : \n"
   ]
  },
  {
   "cell_type": "code",
   "execution_count": 47,
   "metadata": {},
   "outputs": [
    {
     "data": {
      "text/plain": [
       "[0.898, 0.892, 0.878, 0.876, 0.874, 0.872, 0.87, 0.86, 0.85, 0.848]"
      ]
     },
     "execution_count": 47,
     "metadata": {},
     "output_type": "execute_result"
    }
   ],
   "source": [
    "wm.best_elements(aggregator = lambda x:x[0], k= 10)"
   ]
  },
  {
   "cell_type": "markdown",
   "metadata": {},
   "source": [
    "Ainsi afin d'expérimenter notre approches et afin de la comparer a d'autres modèles plusieurs wrapper méthodes ont été implémentés.\n",
    "\n",
    "La première génére des voisinages en ajoutant ou en retirant un seul attribut et prend a chaque fois le meilleur voisinage (en initialisant a $\\emptyset$), cette méthode est purement cardinale et donc elle nécessite un aggrégateur."
   ]
  },
  {
   "cell_type": "code",
   "execution_count": 48,
   "metadata": {},
   "outputs": [
    {
     "name": "stdout",
     "output_type": "stream",
     "text": [
      "current subset:  (12,)  with :  0.616\n",
      "number of calls:  1\n",
      "best neighbour found:  ((12, 7), (0.888, -2))\n",
      "current subset:  (12, 7)  with :  0.888\n",
      "number of calls:  20\n",
      "best neighbour found:  ((12, 7, 5), (0.89, -3))\n",
      "current subset:  (12, 7, 5)  with :  0.89\n",
      "number of calls:  39\n",
      "best neighbour found:  ((12, 7, 5, 16), (0.918, -4))\n",
      "current subset:  (12, 7, 5, 16)  with :  0.918\n",
      "number of calls:  57\n",
      "best neighbour found:  ((12, 7, 5, 16, 8), (0.922, -5))\n",
      "current subset:  (12, 7, 5, 16, 8)  with :  0.922\n",
      "number of calls:  75\n",
      "best neighbour found:  ((12, 7, 5, 16, 8, 3), (0.924, -6))\n",
      "current subset:  (12, 7, 5, 16, 8, 3)  with :  0.924\n",
      "number of calls:  93\n",
      "best neighbour found:  ((12, 7, 5, 16, 8), (0.922, -5))\n",
      "current subset:  (12, 7, 5, 16, 8, 3)  with :  0.924\n",
      "number of calls:  111\n",
      "best neighbour found:  ((12, 7, 5, 16, 8), (0.922, -5))\n",
      "current subset:  (12, 7, 5, 16, 8, 3)  with :  0.924\n",
      "number of calls:  111\n",
      "best neighbour found:  ((12, 7, 5, 16, 8), (0.922, -5))\n",
      "current subset:  (12, 7, 5, 16, 8, 3)  with :  0.924\n",
      "number of calls:  111\n",
      "best neighbour found:  ((12, 7, 5, 16, 8), (0.922, -5))\n",
      "current subset:  (12, 7, 5, 16, 8, 3)  with :  0.924\n",
      "number of calls:  111\n",
      "best neighbour found:  ((12, 7, 5, 16, 8), (0.922, -5))\n"
     ]
    }
   ],
   "source": [
    "wls = Wrapper_Local_Search(X, y, sampler=sampleSubset, evaluation=evaluator.evaluate, aggregator = lambda x:x[0])\n",
    "wls.run(max_step=10)"
   ]
  },
  {
   "cell_type": "markdown",
   "metadata": {},
   "source": [
    "La méthode EvaluateSubset dispose d'un compteur qui compte le nombre d'appels a l'oracle et la on peut l'observer croitre puis se figer dans l'abscence d'un voisinage satisfaisant.\n",
    "\n",
    "Pour palier a ça une variante a été développée qui tire un voisinage aléatoirement en fonctiond d'une probabilité définie par une fonction sur les performances, ici je vais en faire la démonstration avec la fonction softmax (mais ça aurait aussi bien pu juste être une fonction uniforme)."
   ]
  },
  {
   "cell_type": "code",
   "execution_count": 49,
   "metadata": {},
   "outputs": [
    {
     "name": "stdout",
     "output_type": "stream",
     "text": [
      "Current subset:  (12,)  :  0.616\n",
      "number of calls:  1\n",
      "=============================\n",
      "Current subset:  (12, 2)  :  0.65\n",
      "number of calls:  20\n",
      "=============================\n",
      "Current subset:  (12, 2, 15)  :  0.674\n",
      "number of calls:  39\n",
      "=============================\n",
      "Current subset:  (12, 2, 15, 18)  :  0.692\n",
      "number of calls:  57\n",
      "=============================\n",
      "Current subset:  (12, 2, 15, 18, 5)  :  0.76\n",
      "number of calls:  75\n",
      "=============================\n",
      "Current subset:  (12, 2, 15, 18, 5, 9)  :  0.77\n",
      "number of calls:  93\n",
      "=============================\n",
      "Current subset:  (12, 2, 15, 18, 5, 9, 10)  :  0.764\n",
      "number of calls:  111\n",
      "=============================\n",
      "Current subset:  (12, 2, 15, 18, 5, 9, 10, 6)  :  0.75\n",
      "number of calls:  129\n",
      "=============================\n",
      "Current subset:  (12, 2, 15, 18, 5, 9, 10, 6, 3)  :  0.738\n",
      "number of calls:  147\n",
      "=============================\n",
      "Current subset:  (12, 2, 18, 5, 9, 10, 6, 3)  :  0.758\n",
      "number of calls:  165\n",
      "=============================\n",
      "Current subset:  (12, 2, 18, 5, 9, 10, 6, 3, 19)  :  0.754\n",
      "number of calls:  184\n",
      "=============================\n",
      "Current subset:  (12, 2, 18, 5, 9, 10, 6, 19)  :  0.758\n",
      "number of calls:  203\n",
      "=============================\n",
      "Current subset:  (12, 18, 5, 9, 10, 6, 19)  :  0.77\n",
      "number of calls:  222\n",
      "=============================\n",
      "Current subset:  (12, 18, 5, 9, 10, 6, 19, 14)  :  0.768\n",
      "number of calls:  242\n",
      "=============================\n",
      "Current subset:  (12, 18, 5, 9, 10, 6, 19, 14, 4)  :  0.744\n",
      "number of calls:  261\n",
      "=============================\n",
      "Current subset:  (12, 18, 5, 9, 10, 6, 19, 14, 4, 3)  :  0.744\n",
      "number of calls:  279\n",
      "=============================\n",
      "Current subset:  (12, 18, 5, 9, 10, 6, 19, 14, 4, 3, 7)  :  0.866\n",
      "number of calls:  297\n",
      "=============================\n",
      "Current subset:  (12, 18, 5, 9, 10, 6, 19, 14, 4, 3, 7, 13)  :  0.874\n",
      "number of calls:  315\n",
      "=============================\n",
      "Current subset:  (12, 18, 9, 10, 6, 19, 14, 4, 3, 7, 13)  :  0.864\n",
      "number of calls:  333\n",
      "=============================\n",
      "Current subset:  (12, 18, 9, 10, 6, 19, 14, 4, 3, 7, 13, 8)  :  0.864\n",
      "number of calls:  352\n",
      "=============================\n"
     ]
    }
   ],
   "source": [
    "wsls = Wrapper_Stochastic_Local_Search(X,y, evaluation=evaluator.evaluate, aggregator=lambda x:x[0], probability_ponderator=lambda x:np.exp(x) / np.sum(np.exp(x)))\n",
    "wsls.run(max_step=20)"
   ]
  },
  {
   "cell_type": "markdown",
   "metadata": {},
   "source": [
    "Cette variante ne se bloque pas mais est beaucoup plus lente car moins stable et n'a pas forcément de meilleurs résultats.\n",
    "Le concurrent principale a notre méthode rester la méthode suivante, développé en utilisant l'algorithme génétique le plus connu pour du multi-objectif : NSGA3"
   ]
  },
  {
   "cell_type": "code",
   "execution_count": 50,
   "metadata": {},
   "outputs": [
    {
     "name": "stderr",
     "output_type": "stream",
     "text": [
      "/home/moohshadox/anaconda3/lib/python3.8/site-packages/deap/creator.py:138: RuntimeWarning: A class named 'FitnessMin' has already been created and it will be overwritten. Consider deleting previous creation of that class or rename it.\n",
      "  warnings.warn(\"A class named '{0}' has already been created and it \"\n",
      "/home/moohshadox/anaconda3/lib/python3.8/site-packages/deap/creator.py:138: RuntimeWarning: A class named 'Individual' has already been created and it will be overwritten. Consider deleting previous creation of that class or rename it.\n",
      "  warnings.warn(\"A class named '{0}' has already been created and it \"\n"
     ]
    }
   ],
   "source": [
    "wnsga = Wrapper_NSGA2(X, y, sampler=sampleSubset, evaluation=evaluator.evaluate)\n",
    "wnsga.run(max_step=20)\n"
   ]
  },
  {
   "cell_type": "markdown",
   "metadata": {},
   "source": [
    "On peut a présent comparer les approches précédentes en utilisant la méthode best elements."
   ]
  },
  {
   "cell_type": "code",
   "execution_count": 52,
   "metadata": {},
   "outputs": [
    {
     "name": "stdout",
     "output_type": "stream",
     "text": [
      "Average performances on top 10\n",
      "Random Walk 0.8893333333333334\n",
      "Local Search 0.8893333333333334\n",
      "Stochastic Local Search 0.8893333333333334\n",
      "NSGA3 0.8906666666666667\n"
     ]
    }
   ],
   "source": [
    "print(\"Average performances on top 10\")\n",
    "\n",
    "print(\"Random Walk\", np.array(wm.best_elements(aggregator=lambda x:x[0],k=3)).mean())\n",
    "print(\"Local Search\", np.array(wm.best_elements(aggregator=lambda x:x[0],k=3)).mean())\n",
    "print(\"Stochastic Local Search\", np.array(wm.best_elements(aggregator=lambda x:x[0],k=3)).mean())\n",
    "print(\"NSGA3\", np.array(wnsga.best_elements(aggregator=lambda x:x[0],k=3)).mean())\n"
   ]
  },
  {
   "cell_type": "markdown",
   "metadata": {},
   "source": [
    "## Une première approche qui utilise une fonction d'utilité additive\n",
    "\n",
    "La première approche proposée exploite de façon très simpliste une fonction d'utilité additive qu'on peut construire a partir de la relation de dominance de pareto entre les performances des sous-ensembles.\n",
    "\n",
    "L'objectif est d'échantilloner dans l'ensemble des subsets de manière a ce que la probabilité de tirer un sous-ensemble soit proportionnelle a l'estimation de son utilité calculée a partir de $f_\\theta$.\n",
    "\n",
    "Dans un second temps on peut également penser a un moyen pour ne pas évaluer les sous-ensembles non potentiellement optimaux.\n",
    "\n",
    "Etant donné qu'on cherche a échantillonner sur l'espace de subset il nous faut définir une règle de transition qui nous permette d'évaluer la probabilité $P(S'|S)$ de passer d'un sous-ensemble S a un sous-ensemble S', partant de la on peut considérer plusieurs possibilités qui se regroupent en 2 catégories: \n",
    "\n",
    "1. Celles qui n'exploitent pas de $\\theta$ en particulier.\n",
    "    1. **En calculant l'écart maximal vis a vis de l'ensemble courant**. \n",
    "    \n",
    "        Si l'objectif est d'éviter un sous-ensemble non potentiellement optimal une idée serait de calculer l'écart maximal $f_\\theta(S') - f_{\\theta}(S)$ pour les différents $\\theta$ compatibles et de le normaliser entre 0 et 1.\n",
    "        Si cet écart est égal 0 ça veut dire que l'ensemble tiré est dominé par $S$ et donc par conséquent qu'il faut le rejeter et en tirer un autre, partant de la on peut poser:  $P(S'|S) = max_{\\theta}(f_\\theta(S') - f_\\theta(S))$.\n",
    "        Cependant cet méthode ne prend pas en compte les ensembles précédemment tirés.\n",
    "    2. **En calculant le minimum des écarts maximaux vis a vis des ensemble tirés précédemment**.\n",
    "    \n",
    "        On peut modifier la méthode précédente en calculant cet écart maximal pour tous les ensemble précédent, et du moment qu'il suffit qu'il y'en ait un seul sous ensemble qui le domine pour qu'il soit écarté on prendrait la valeur minimum de ces écarts maximaux et donc on poserait: $P(S'|S) = min_{S \\in E} max_{\\theta}(f_\\theta(S') - f_\\theta(S))$   "
   ]
  },
  {
   "cell_type": "markdown",
   "metadata": {},
   "source": [
    "2. Celles qui calculent un $\\theta$ particulier ($\\theta_r$) compatible avec les préférences en utilisant un des trois objectifs présentés plus haut.\n",
    "    Le principal avantage serait de résoudre un PL par évaluation de sous-ensemble et non un PL par tirage ce qui réduit drastiquement le temps de calcul.\n",
    "    \n",
    "    2.1. On peut chercher le sous-ensemble $S'$ tel que $S' = argmax_{S' \\in E}(f_{\\theta_r}(S') - f_{\\theta_r}(S))$.\n",
    "    \n",
    "    2.2 On peut échantilloner en fonction de l'écart entre $f_{\\theta_r}(S') - f_{\\theta_r}(S)$ en utilisant la règle de Hasting (celle utilisée pour le récuit simulé)\n",
    "    \n",
    "    2.3 On peut poser comme condition a la transition que $f_{\\theta_r}(S') \\geq f_{\\theta_r}(S)$"
   ]
  },
  {
   "cell_type": "markdown",
   "metadata": {},
   "source": [
    "Dans tous les cas, le pseudo-code de l'approche donnerait quelque chose de cette forme:"
   ]
  },
  {
   "attachments": {},
   "cell_type": "markdown",
   "metadata": {},
   "source": [
    "![alt text](code.png)\n"
   ]
  },
  {
   "cell_type": "markdown",
   "metadata": {},
   "source": [
    "## Comparaison des différentes approches de sélection d'attributs\n",
    "\n",
    "### Protocole expérimental\n",
    "\n",
    "Dans cette première expérience on compare une wrapper méthode aléatoire, une wrapper méthode qui exploite la méthode NSGA3 et une méthode basé sur une utilité additive qui utilise comme condition de transition de S vers S' que $f_{\\theta_r}(S') \\geq f_{\\theta_r}(S)$ avec $\\theta_r$ le $\\theta$ compatible qui maximise les utilités de tous les sous-ensembles évalués jusqu'a présent.\n",
    "\n",
    "\n",
    "Nous effectuons cette expérience sur 100 dataset tirés aléatoirement de 20 attributs donc 5 informatif, avec 1000 samples et la mesure sera effectuée sur 3 classeurs différents: Random Forest, Arbre de décision et Regression logistique (les implémentations de ces classeurs sont celle de Scikit learn)."
   ]
  },
  {
   "cell_type": "markdown",
   "metadata": {},
   "source": [
    "### Résultats obtenus"
   ]
  },
  {
   "cell_type": "code",
   "execution_count": 53,
   "metadata": {},
   "outputs": [
    {
     "data": {
      "text/html": [
       "<div>\n",
       "<style scoped>\n",
       "    .dataframe tbody tr th:only-of-type {\n",
       "        vertical-align: middle;\n",
       "    }\n",
       "\n",
       "    .dataframe tbody tr th {\n",
       "        vertical-align: top;\n",
       "    }\n",
       "\n",
       "    .dataframe thead th {\n",
       "        text-align: right;\n",
       "    }\n",
       "</style>\n",
       "<table border=\"1\" class=\"dataframe\">\n",
       "  <thead>\n",
       "    <tr style=\"text-align: right;\">\n",
       "      <th></th>\n",
       "      <th>Unnamed: 0</th>\n",
       "      <th>evaluations</th>\n",
       "      <th>method</th>\n",
       "      <th>classifier</th>\n",
       "      <th>dataset</th>\n",
       "      <th>performance</th>\n",
       "    </tr>\n",
       "  </thead>\n",
       "  <tbody>\n",
       "    <tr>\n",
       "      <th>0</th>\n",
       "      <td>0</td>\n",
       "      <td>7</td>\n",
       "      <td>Wrapper_NSGA2</td>\n",
       "      <td>ABCMeta</td>\n",
       "      <td>0</td>\n",
       "      <td>0.9060</td>\n",
       "    </tr>\n",
       "    <tr>\n",
       "      <th>1</th>\n",
       "      <td>1</td>\n",
       "      <td>7</td>\n",
       "      <td>Wrapper_NSGA2</td>\n",
       "      <td>ABCMeta</td>\n",
       "      <td>0</td>\n",
       "      <td>0.9060</td>\n",
       "    </tr>\n",
       "    <tr>\n",
       "      <th>2</th>\n",
       "      <td>2</td>\n",
       "      <td>7</td>\n",
       "      <td>Wrapper_NSGA2</td>\n",
       "      <td>ABCMeta</td>\n",
       "      <td>0</td>\n",
       "      <td>0.9060</td>\n",
       "    </tr>\n",
       "    <tr>\n",
       "      <th>3</th>\n",
       "      <td>3</td>\n",
       "      <td>7</td>\n",
       "      <td>Wrapper_NSGA2</td>\n",
       "      <td>ABCMeta</td>\n",
       "      <td>0</td>\n",
       "      <td>0.9060</td>\n",
       "    </tr>\n",
       "    <tr>\n",
       "      <th>4</th>\n",
       "      <td>4</td>\n",
       "      <td>7</td>\n",
       "      <td>Wrapper_NSGA2</td>\n",
       "      <td>ABCMeta</td>\n",
       "      <td>0</td>\n",
       "      <td>0.9060</td>\n",
       "    </tr>\n",
       "    <tr>\n",
       "      <th>...</th>\n",
       "      <td>...</td>\n",
       "      <td>...</td>\n",
       "      <td>...</td>\n",
       "      <td>...</td>\n",
       "      <td>...</td>\n",
       "      <td>...</td>\n",
       "    </tr>\n",
       "    <tr>\n",
       "      <th>1695</th>\n",
       "      <td>1695</td>\n",
       "      <td>94</td>\n",
       "      <td>Wrapper_Model</td>\n",
       "      <td>ABCMeta</td>\n",
       "      <td>2</td>\n",
       "      <td>0.8165</td>\n",
       "    </tr>\n",
       "    <tr>\n",
       "      <th>1696</th>\n",
       "      <td>1696</td>\n",
       "      <td>95</td>\n",
       "      <td>Wrapper_Model</td>\n",
       "      <td>ABCMeta</td>\n",
       "      <td>2</td>\n",
       "      <td>0.8165</td>\n",
       "    </tr>\n",
       "    <tr>\n",
       "      <th>1697</th>\n",
       "      <td>1697</td>\n",
       "      <td>96</td>\n",
       "      <td>Wrapper_Model</td>\n",
       "      <td>ABCMeta</td>\n",
       "      <td>2</td>\n",
       "      <td>0.8165</td>\n",
       "    </tr>\n",
       "    <tr>\n",
       "      <th>1698</th>\n",
       "      <td>1698</td>\n",
       "      <td>97</td>\n",
       "      <td>Wrapper_Model</td>\n",
       "      <td>ABCMeta</td>\n",
       "      <td>2</td>\n",
       "      <td>0.8165</td>\n",
       "    </tr>\n",
       "    <tr>\n",
       "      <th>1699</th>\n",
       "      <td>1699</td>\n",
       "      <td>98</td>\n",
       "      <td>Wrapper_Model</td>\n",
       "      <td>ABCMeta</td>\n",
       "      <td>2</td>\n",
       "      <td>0.8165</td>\n",
       "    </tr>\n",
       "  </tbody>\n",
       "</table>\n",
       "<p>1700 rows × 6 columns</p>\n",
       "</div>"
      ],
      "text/plain": [
       "      Unnamed: 0  evaluations         method classifier  dataset  performance\n",
       "0              0            7  Wrapper_NSGA2    ABCMeta        0       0.9060\n",
       "1              1            7  Wrapper_NSGA2    ABCMeta        0       0.9060\n",
       "2              2            7  Wrapper_NSGA2    ABCMeta        0       0.9060\n",
       "3              3            7  Wrapper_NSGA2    ABCMeta        0       0.9060\n",
       "4              4            7  Wrapper_NSGA2    ABCMeta        0       0.9060\n",
       "...          ...          ...            ...        ...      ...          ...\n",
       "1695        1695           94  Wrapper_Model    ABCMeta        2       0.8165\n",
       "1696        1696           95  Wrapper_Model    ABCMeta        2       0.8165\n",
       "1697        1697           96  Wrapper_Model    ABCMeta        2       0.8165\n",
       "1698        1698           97  Wrapper_Model    ABCMeta        2       0.8165\n",
       "1699        1699           98  Wrapper_Model    ABCMeta        2       0.8165\n",
       "\n",
       "[1700 rows x 6 columns]"
      ]
     },
     "execution_count": 53,
     "metadata": {},
     "output_type": "execute_result"
    }
   ],
   "source": [
    "\n",
    "df = pd.read_csv(\"results_1.csv\")\n",
    "df"
   ]
  },
  {
   "cell_type": "code",
   "execution_count": 54,
   "metadata": {},
   "outputs": [
    {
     "data": {
      "text/html": [
       "<div>\n",
       "<style scoped>\n",
       "    .dataframe tbody tr th:only-of-type {\n",
       "        vertical-align: middle;\n",
       "    }\n",
       "\n",
       "    .dataframe tbody tr th {\n",
       "        vertical-align: top;\n",
       "    }\n",
       "\n",
       "    .dataframe thead th {\n",
       "        text-align: right;\n",
       "    }\n",
       "</style>\n",
       "<table border=\"1\" class=\"dataframe\">\n",
       "  <thead>\n",
       "    <tr style=\"text-align: right;\">\n",
       "      <th></th>\n",
       "      <th></th>\n",
       "      <th>Unnamed: 0</th>\n",
       "      <th>dataset</th>\n",
       "      <th>performance</th>\n",
       "    </tr>\n",
       "    <tr>\n",
       "      <th>evaluations</th>\n",
       "      <th>method</th>\n",
       "      <th></th>\n",
       "      <th></th>\n",
       "      <th></th>\n",
       "    </tr>\n",
       "  </thead>\n",
       "  <tbody>\n",
       "    <tr>\n",
       "      <th>1</th>\n",
       "      <th>Wrapper_Model</th>\n",
       "      <td>850.000000</td>\n",
       "      <td>1.0</td>\n",
       "      <td>0.652167</td>\n",
       "    </tr>\n",
       "    <tr>\n",
       "      <th rowspan=\"2\" valign=\"top\">2</th>\n",
       "      <th>Wrapper_Fishburn</th>\n",
       "      <td>800.000000</td>\n",
       "      <td>0.8</td>\n",
       "      <td>0.737800</td>\n",
       "    </tr>\n",
       "    <tr>\n",
       "      <th>Wrapper_Model</th>\n",
       "      <td>851.000000</td>\n",
       "      <td>1.0</td>\n",
       "      <td>0.702500</td>\n",
       "    </tr>\n",
       "    <tr>\n",
       "      <th rowspan=\"2\" valign=\"top\">3</th>\n",
       "      <th>Wrapper_Fishburn</th>\n",
       "      <td>801.000000</td>\n",
       "      <td>0.8</td>\n",
       "      <td>0.766600</td>\n",
       "    </tr>\n",
       "    <tr>\n",
       "      <th>Wrapper_Model</th>\n",
       "      <td>852.000000</td>\n",
       "      <td>1.0</td>\n",
       "      <td>0.767083</td>\n",
       "    </tr>\n",
       "    <tr>\n",
       "      <th>...</th>\n",
       "      <th>...</th>\n",
       "      <td>...</td>\n",
       "      <td>...</td>\n",
       "      <td>...</td>\n",
       "    </tr>\n",
       "    <tr>\n",
       "      <th rowspan=\"2\" valign=\"top\">98</th>\n",
       "      <th>Wrapper_Model</th>\n",
       "      <td>947.666667</td>\n",
       "      <td>1.0</td>\n",
       "      <td>0.860917</td>\n",
       "    </tr>\n",
       "    <tr>\n",
       "      <th>Wrapper_NSGA2</th>\n",
       "      <td>971.500000</td>\n",
       "      <td>1.5</td>\n",
       "      <td>0.867250</td>\n",
       "    </tr>\n",
       "    <tr>\n",
       "      <th rowspan=\"3\" valign=\"top\">99</th>\n",
       "      <th>Wrapper_Fishburn</th>\n",
       "      <td>897.000000</td>\n",
       "      <td>0.8</td>\n",
       "      <td>0.877700</td>\n",
       "    </tr>\n",
       "    <tr>\n",
       "      <th>Wrapper_Model</th>\n",
       "      <td>798.400000</td>\n",
       "      <td>0.8</td>\n",
       "      <td>0.869800</td>\n",
       "    </tr>\n",
       "    <tr>\n",
       "      <th>Wrapper_NSGA2</th>\n",
       "      <td>830.666667</td>\n",
       "      <td>1.0</td>\n",
       "      <td>0.876667</td>\n",
       "    </tr>\n",
       "  </tbody>\n",
       "</table>\n",
       "<p>291 rows × 3 columns</p>\n",
       "</div>"
      ],
      "text/plain": [
       "                              Unnamed: 0  dataset  performance\n",
       "evaluations method                                            \n",
       "1           Wrapper_Model     850.000000      1.0     0.652167\n",
       "2           Wrapper_Fishburn  800.000000      0.8     0.737800\n",
       "            Wrapper_Model     851.000000      1.0     0.702500\n",
       "3           Wrapper_Fishburn  801.000000      0.8     0.766600\n",
       "            Wrapper_Model     852.000000      1.0     0.767083\n",
       "...                                  ...      ...          ...\n",
       "98          Wrapper_Model     947.666667      1.0     0.860917\n",
       "            Wrapper_NSGA2     971.500000      1.5     0.867250\n",
       "99          Wrapper_Fishburn  897.000000      0.8     0.877700\n",
       "            Wrapper_Model     798.400000      0.8     0.869800\n",
       "            Wrapper_NSGA2     830.666667      1.0     0.876667\n",
       "\n",
       "[291 rows x 3 columns]"
      ]
     },
     "execution_count": 54,
     "metadata": {},
     "output_type": "execute_result"
    }
   ],
   "source": [
    "df2 = df[df.evaluations < 100].groupby([\"evaluations\",\"method\"]).mean()\n",
    "df2"
   ]
  },
  {
   "cell_type": "code",
   "execution_count": 55,
   "metadata": {},
   "outputs": [
    {
     "data": {
      "text/plain": [
       "<AxesSubplot:xlabel='evaluations', ylabel='performance'>"
      ]
     },
     "execution_count": 55,
     "metadata": {},
     "output_type": "execute_result"
    },
    {
     "data": {
      "image/png": "[encoded data removed]",
      "text/plain": [
       "<Figure size 432x288 with 1 Axes>"
      ]
     },
     "metadata": {
      "needs_background": "light"
     },
     "output_type": "display_data"
    }
   ],
   "source": [
    "sns.lineplot(data=df2, x= \"evaluations\", y=\"performance\", hue=\"method\")"
   ]
  },
  {
   "cell_type": "markdown",
   "metadata": {},
   "source": [
    "On remarque que juste avec cette idée basique on arrive a faire mieux qu'un algorithme aléatoire et a atteindre des performance comparable en moyenne a celle de NSGA3 en plus stable."
   ]
  }
 ],
 "metadata": {
  "kernelspec": {
   "display_name": "Python 3",
   "language": "python",
   "name": "python3"
  },
  "language_info": {
   "codemirror_mode": {
    "name": "ipython",
    "version": 3
   },
   "file_extension": ".py",
   "mimetype": "text/x-python",
   "name": "python",
   "nbconvert_exporter": "python",
   "pygments_lexer": "ipython3",
   "version": "3.8.8"
  }
 },
 "nbformat": 4,
 "nbformat_minor": 1
}
