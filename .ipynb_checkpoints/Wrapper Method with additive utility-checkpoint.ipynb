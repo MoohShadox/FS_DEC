{
 "cells": [
  {
   "cell_type": "code",
   "execution_count": 1,
   "metadata": {},
   "outputs": [],
   "source": [
    "import pandas as pd\n",
    "import numpy as np\n",
    "import seaborn as sns\n",
    "from pref.utility.Additive_Utility_Model import *"
   ]
  },
  {
   "cell_type": "markdown",
   "metadata": {},
   "source": [
    "# Utilisation d'une approche ordinale pour la sélection d'attributs\n",
    "\n",
    "Ce notebook contient une démonstration du code qui a été développé jusque ici, une explication du framework utilisé pour faire de la sélection d'attributs (avec pseudo-code) et enfin une étude expérimentale comparative de plusieurs approches de sélection d'attributs."
   ]
  },
  {
   "cell_type": "markdown",
   "metadata": {},
   "source": [
    "## Module de manipulation d'utilité additive\n",
    "\n",
    "Le premier module développé sert à construire et a ajuster un modèle d'utilité additive sur des préférences."
   ]
  },
  {
   "cell_type": "code",
   "execution_count": 2,
   "metadata": {},
   "outputs": [
    {
     "data": {
      "text/plain": [
       "[((2, 4), (0, 1)),\n",
       " ((2, 4), (3,)),\n",
       " ((2, 4), (3, 4)),\n",
       " ((2, 4), (2, 3, 4)),\n",
       " ((2, 4), (0, 2, 4)),\n",
       " ((2, 4), (2, 3)),\n",
       " ((2, 4), (1, 3, 4)),\n",
       " ((2, 4), (1, 3)),\n",
       " ((2, 4), (0,)),\n",
       " ((2, 4), (0, 1, 2, 3))]"
      ]
     },
     "execution_count": 2,
     "metadata": {},
     "output_type": "execute_result"
    }
   ],
   "source": [
    "n_items = 5\n",
    "k = 1\n",
    "items, R = sampler2(n_items, max_subsets=20) #Permet de tirer une relation en tirant un ordre aléatoire sur 20 \n",
    "                                             #sous-ensembles\n",
    "R[0:10] # [((1,) , (3,))] signifie que 1 est préféré a 3."
   ]
  },
  {
   "cell_type": "markdown",
   "metadata": {},
   "source": [
    "On instancie le modèle comme suit"
   ]
  },
  {
   "cell_type": "code",
   "execution_count": 27,
   "metadata": {},
   "outputs": [],
   "source": [
    "m = Additive_Utility_Model(items)"
   ]
  },
  {
   "cell_type": "markdown",
   "metadata": {},
   "source": [
    "On peut fixer les paramètres soi-même"
   ]
  },
  {
   "cell_type": "code",
   "execution_count": 28,
   "metadata": {},
   "outputs": [
    {
     "data": {
      "text/plain": [
       "[(1,), (2,), (3,)]"
      ]
     },
     "execution_count": 28,
     "metadata": {},
     "output_type": "execute_result"
    }
   ],
   "source": [
    "m.theta = [(1, ), (2, ), (3, )]\n",
    "m.theta"
   ]
  },
  {
   "cell_type": "markdown",
   "metadata": {},
   "source": [
    "ou les générer de façon a avoir une fonction k-additive"
   ]
  },
  {
   "cell_type": "code",
   "execution_count": 29,
   "metadata": {},
   "outputs": [
    {
     "data": {
      "text/plain": [
       "{(0,): docplex.mp.Var(type=C,name='u_0',lb=-1e+20),\n",
       " (1,): docplex.mp.Var(type=C,name='u_1',lb=-1e+20),\n",
       " (2,): docplex.mp.Var(type=C,name='u_2',lb=-1e+20),\n",
       " (3,): docplex.mp.Var(type=C,name='u_3',lb=-1e+20),\n",
       " (4,): docplex.mp.Var(type=C,name='u_4',lb=-1e+20)}"
      ]
     },
     "execution_count": 29,
     "metadata": {},
     "output_type": "execute_result"
    }
   ],
   "source": [
    "m.create_params(1)\n",
    "m.theta"
   ]
  },
  {
   "cell_type": "code",
   "execution_count": 30,
   "metadata": {},
   "outputs": [
    {
     "data": {
      "text/plain": [
       "{(0,): docplex.mp.Var(type=C,name='u_0',lb=-1e+20),\n",
       " (1,): docplex.mp.Var(type=C,name='u_1',lb=-1e+20),\n",
       " (2,): docplex.mp.Var(type=C,name='u_2',lb=-1e+20),\n",
       " (3,): docplex.mp.Var(type=C,name='u_3',lb=-1e+20),\n",
       " (4,): docplex.mp.Var(type=C,name='u_4',lb=-1e+20),\n",
       " (0, 1): docplex.mp.Var(type=C,name='u_0_1',lb=-1e+20),\n",
       " (0, 2): docplex.mp.Var(type=C,name='u_0_2',lb=-1e+20),\n",
       " (0, 3): docplex.mp.Var(type=C,name='u_0_3',lb=-1e+20),\n",
       " (0, 4): docplex.mp.Var(type=C,name='u_0_4',lb=-1e+20),\n",
       " (1, 2): docplex.mp.Var(type=C,name='u_1_2',lb=-1e+20),\n",
       " (1, 3): docplex.mp.Var(type=C,name='u_1_3',lb=-1e+20),\n",
       " (1, 4): docplex.mp.Var(type=C,name='u_1_4',lb=-1e+20),\n",
       " (2, 3): docplex.mp.Var(type=C,name='u_2_3',lb=-1e+20),\n",
       " (2, 4): docplex.mp.Var(type=C,name='u_2_4',lb=-1e+20),\n",
       " (3, 4): docplex.mp.Var(type=C,name='u_3_4',lb=-1e+20)}"
      ]
     },
     "execution_count": 30,
     "metadata": {},
     "output_type": "execute_result"
    }
   ],
   "source": [
    "m.create_params(2)\n",
    "m.theta"
   ]
  },
  {
   "cell_type": "markdown",
   "metadata": {},
   "source": [
    "Chaque modèle pose des bornes sur les utilités qu'on peut modifier"
   ]
  },
  {
   "cell_type": "code",
   "execution_count": 31,
   "metadata": {},
   "outputs": [],
   "source": [
    "m.utility_lb = -1\n",
    "m.utility_ub = +1"
   ]
  },
  {
   "cell_type": "markdown",
   "metadata": {},
   "source": [
    "On peut ajouter les contraintes une a une"
   ]
  },
  {
   "cell_type": "code",
   "execution_count": 32,
   "metadata": {},
   "outputs": [],
   "source": [
    "m.add_strict_preference(*R[0])"
   ]
  },
  {
   "cell_type": "markdown",
   "metadata": {},
   "source": [
    "Ou en ajouter plusieurs a la fois:"
   ]
  },
  {
   "cell_type": "code",
   "execution_count": 33,
   "metadata": {},
   "outputs": [],
   "source": [
    "m.create_polyhedron(R[1:])"
   ]
  },
  {
   "cell_type": "markdown",
   "metadata": {},
   "source": [
    "Chaque préférence stricte conduit a créer des variables d'écarts epsilon dont la borne inférieur est supérieur a 1e-4.\n",
    "\n",
    "On peut ensuite créer des objectifs génériques : \n",
    "- MDVF (Most Discriminant Value Function): Maximise la somme des epsilons pour avoir la fonction qui creuse le plus les préférences strictes.\n",
    "- MV (Maximum Value): Maximise la somme des utilités des sous-ensembles évalués\n",
    "- SE (Simplest Explication): Minimise la somme des $\\theta$ pour obtenir une fonction qui utilise le moins de paramètres possible."
   ]
  },
  {
   "cell_type": "code",
   "execution_count": 34,
   "metadata": {},
   "outputs": [
    {
     "data": {
      "text/plain": [
       "{'MV': (docplex.mp.LinearExpr(6u_0+5u_1+5u_2+8u_3+7u_4+2u_0_1+2u_0_2+2u_0_3+2u_0_4+u_1_2+3u_1_3+u_1_4+3u_2_3+3u_2_4+3u_3_4),\n",
       "  1),\n",
       " 'MDVF': (docplex.mp.LinearExpr(p_24_01+p_24_3+p_24_34+p_24_234+p_24_024+p_24_23+p_24_134+p_24_13+p_24_0+p_24_0123+p_24_04+p_24_03+p_24_4+p_24_1+p_01_3+p_01_34+p_01_234+p_01_024+p_01_23+p_01_134+p_01_13+p_01_0+p_01_0123+p_01_04+p_01_03+p_01_4+p_01_1+p_3_34+p_3_234+p_3_024+p_3_23+p_3_134+p_3_13+p_3_0+p_3_0123+p_3_04+p_3_03+p_3_4+p_3_1+p_34_234+p_34_024+p_34_23+p_34_134+p_34_13+p_34_0+p_34_0123+p_34_04+p_34_03+p_34_4+p_34_1+p_234_024+p_234_23+p_234_134+p_234_13+p_234_0+p_234_0123+p_234_04+p_234_03+p_234_4+p_234_1+p_024_23+p_024_134+p_024_13+p_024_0+p_024_0123+p_024_04+p_024_03+p_024_4+p_024_1+p_23_134+p_23_13+p_23_0+p_23_0123+p_23_04+p_23_03+p_23_4+p_23_1+p_134_13+p_134_0+p_134_0123+p_134_04+p_134_03+p_134_4+p_134_1+p_13_0+p_13_0123+p_13_04+p_13_03+p_13_4+p_13_1+p_0_0123+p_0_04+p_0_03+p_0_4+p_0_1+p_0123_04+p_0123_03+p_0123_4+p_0123_1+p_04_03+p_04_4+p_04_1+p_03_4+p_03_1+p_4_1),\n",
       "  1),\n",
       " 'SE': (docplex.mp.LinearExpr(_abs120+_abs123+_abs126+_abs129+_abs132+_abs135+_abs138+_abs141+_abs144+_abs147+_abs150+_abs153+_abs156+_abs159+_abs162),\n",
       "  -1)}"
      ]
     },
     "execution_count": 34,
     "metadata": {},
     "output_type": "execute_result"
    }
   ],
   "source": [
    "m.build_objectifs()\n",
    "m.objectifs"
   ]
  },
  {
   "cell_type": "markdown",
   "metadata": {},
   "source": [
    "On peut également créer son propre objectif, et on est souvent amener a le faire si on veut évaluer la valeur maximale que pourrait atteindre un sous-ensemble, pour se faire on récupére l'expression qui représente l'utilité d'un sous-ensemble."
   ]
  },
  {
   "cell_type": "code",
   "execution_count": 35,
   "metadata": {},
   "outputs": [
    {
     "data": {
      "text/plain": [
       "docplex.mp.LinearExpr(u_1+u_2+u_1_2)"
      ]
     },
     "execution_count": 35,
     "metadata": {},
     "output_type": "execute_result"
    }
   ],
   "source": [
    "m.get_utility_exp((1,2))"
   ]
  },
  {
   "cell_type": "markdown",
   "metadata": {},
   "source": [
    "et on l'ajoute comme objectif"
   ]
  },
  {
   "cell_type": "code",
   "execution_count": 36,
   "metadata": {},
   "outputs": [
    {
     "data": {
      "text/plain": [
       "{'MV': (docplex.mp.LinearExpr(6u_0+5u_1+5u_2+8u_3+7u_4+2u_0_1+2u_0_2+2u_0_3+2u_0_4+u_1_2+3u_1_3+u_1_4+3u_2_3+3u_2_4+3u_3_4),\n",
       "  1),\n",
       " 'MDVF': (docplex.mp.LinearExpr(p_24_01+p_24_3+p_24_34+p_24_234+p_24_024+p_24_23+p_24_134+p_24_13+p_24_0+p_24_0123+p_24_04+p_24_03+p_24_4+p_24_1+p_01_3+p_01_34+p_01_234+p_01_024+p_01_23+p_01_134+p_01_13+p_01_0+p_01_0123+p_01_04+p_01_03+p_01_4+p_01_1+p_3_34+p_3_234+p_3_024+p_3_23+p_3_134+p_3_13+p_3_0+p_3_0123+p_3_04+p_3_03+p_3_4+p_3_1+p_34_234+p_34_024+p_34_23+p_34_134+p_34_13+p_34_0+p_34_0123+p_34_04+p_34_03+p_34_4+p_34_1+p_234_024+p_234_23+p_234_134+p_234_13+p_234_0+p_234_0123+p_234_04+p_234_03+p_234_4+p_234_1+p_024_23+p_024_134+p_024_13+p_024_0+p_024_0123+p_024_04+p_024_03+p_024_4+p_024_1+p_23_134+p_23_13+p_23_0+p_23_0123+p_23_04+p_23_03+p_23_4+p_23_1+p_134_13+p_134_0+p_134_0123+p_134_04+p_134_03+p_134_4+p_134_1+p_13_0+p_13_0123+p_13_04+p_13_03+p_13_4+p_13_1+p_0_0123+p_0_04+p_0_03+p_0_4+p_0_1+p_0123_04+p_0123_03+p_0123_4+p_0123_1+p_04_03+p_04_4+p_04_1+p_03_4+p_03_1+p_4_1),\n",
       "  1),\n",
       " 'SE': (docplex.mp.LinearExpr(_abs120+_abs123+_abs126+_abs129+_abs132+_abs135+_abs138+_abs141+_abs144+_abs147+_abs150+_abs153+_abs156+_abs159+_abs162),\n",
       "  -1),\n",
       " 'U_{1,2}': (docplex.mp.LinearExpr(u_1+u_2+u_1_2), 1)}"
      ]
     },
     "execution_count": 36,
     "metadata": {},
     "output_type": "execute_result"
    }
   ],
   "source": [
    "m.add_objectif(\"U_{1,2}\", m.get_utility_exp((1,2)), sense = +1) #+1 pour maximiser -1 pour minimiser\n",
    "m.objectifs"
   ]
  },
  {
   "cell_type": "markdown",
   "metadata": {},
   "source": [
    "Ensuite on peut optimiser sur un objectif"
   ]
  },
  {
   "cell_type": "code",
   "execution_count": 37,
   "metadata": {},
   "outputs": [],
   "source": [
    "m.optimize(\"MV\")"
   ]
  },
  {
   "cell_type": "markdown",
   "metadata": {},
   "source": [
    "Ou sur plusieurs dans l'ordre lexicographique."
   ]
  },
  {
   "cell_type": "code",
   "execution_count": 38,
   "metadata": {},
   "outputs": [],
   "source": [
    "m.optimize_lex([\"MDVF\", \"SE\"])"
   ]
  },
  {
   "cell_type": "markdown",
   "metadata": {},
   "source": [
    "On peut ensuite accéder aux paramètres"
   ]
  },
  {
   "cell_type": "code",
   "execution_count": 39,
   "metadata": {},
   "outputs": [
    {
     "data": {
      "text/plain": [
       "{'u_0': -0.9999500000000011,\n",
       " 'u_1': -1.0,\n",
       " 'u_2': 1.9999599999999969,\n",
       " 'u_3': 0.9999799999999999,\n",
       " 'u_4': -0.9999900000000004,\n",
       " 'u_0_1': 2.999940000000001,\n",
       " 'u_0_2': -6.999999999990347e-05,\n",
       " 'u_0_3': -1.0000099999999992,\n",
       " 'u_0_4': 0.9999700000000011,\n",
       " 'u_1_2': -0.999889999999998,\n",
       " 'u_1_3': -0.9999200000000009,\n",
       " 'u_1_4': 1.9999999999621422e-05,\n",
       " 'u_2_3': -2.0000000000000004,\n",
       " 'u_2_4': 3.0000000003527205e-05,\n",
       " 'u_3_4': 0.9999800000000008}"
      ]
     },
     "execution_count": 39,
     "metadata": {},
     "output_type": "execute_result"
    }
   ],
   "source": [
    "m.get_params_values()"
   ]
  },
  {
   "cell_type": "markdown",
   "metadata": {},
   "source": [
    "Ou calculer l'utilité de n'importe quel sous-ensemble."
   ]
  },
  {
   "cell_type": "code",
   "execution_count": 40,
   "metadata": {},
   "outputs": [
    {
     "data": {
      "text/plain": [
       "0.9999399999999965"
      ]
     },
     "execution_count": 40,
     "metadata": {},
     "output_type": "execute_result"
    }
   ],
   "source": [
    "m.get_utility_exp((2,3)).solution_value"
   ]
  },
  {
   "cell_type": "markdown",
   "metadata": {},
   "source": [
    "On peut aussi tester l'adéquation du modèle par rapport aux préférences renseignées c'est a dire la proportion de préférences qu'il modélise (qui peut être <1 si éventuellement les préférences ne sont pas additivement représentable)"
   ]
  },
  {
   "cell_type": "code",
   "execution_count": 41,
   "metadata": {},
   "outputs": [
    {
     "data": {
      "text/plain": [
       "1.0"
      ]
     },
     "execution_count": 41,
     "metadata": {},
     "output_type": "execute_result"
    }
   ],
   "source": [
    "m.adequancy()"
   ]
  },
  {
   "cell_type": "markdown",
   "metadata": {},
   "source": [
    "## Module de prototypage d'une wrapper method"
   ]
  },
  {
   "cell_type": "code",
   "execution_count": null,
   "metadata": {},
   "outputs": [],
   "source": [
    "\n",
    "\n"
   ]
  },
  {
   "cell_type": "code",
   "execution_count": null,
   "metadata": {},
   "outputs": [],
   "source": []
  },
  {
   "cell_type": "code",
   "execution_count": null,
   "metadata": {},
   "outputs": [],
   "source": []
  },
  {
   "cell_type": "code",
   "execution_count": null,
   "metadata": {},
   "outputs": [],
   "source": []
  },
  {
   "cell_type": "code",
   "execution_count": null,
   "metadata": {},
   "outputs": [],
   "source": []
  },
  {
   "cell_type": "code",
   "execution_count": null,
   "metadata": {},
   "outputs": [],
   "source": []
  },
  {
   "cell_type": "code",
   "execution_count": null,
   "metadata": {},
   "outputs": [],
   "source": []
  },
  {
   "cell_type": "markdown",
   "metadata": {},
   "source": [
    "## Comparaison des différentes approches de sélection d'attributs\n",
    "\n",
    "### Protocole expérimental\n",
    "\n"
   ]
  },
  {
   "cell_type": "markdown",
   "metadata": {},
   "source": []
  },
  {
   "cell_type": "markdown",
   "metadata": {},
   "source": [
    "### Résultats obtenus"
   ]
  },
  {
   "cell_type": "code",
   "execution_count": 14,
   "metadata": {},
   "outputs": [
    {
     "data": {
      "text/html": [
       "<div>\n",
       "<style scoped>\n",
       "    .dataframe tbody tr th:only-of-type {\n",
       "        vertical-align: middle;\n",
       "    }\n",
       "\n",
       "    .dataframe tbody tr th {\n",
       "        vertical-align: top;\n",
       "    }\n",
       "\n",
       "    .dataframe thead th {\n",
       "        text-align: right;\n",
       "    }\n",
       "</style>\n",
       "<table border=\"1\" class=\"dataframe\">\n",
       "  <thead>\n",
       "    <tr style=\"text-align: right;\">\n",
       "      <th></th>\n",
       "      <th>Unnamed: 0</th>\n",
       "      <th>evaluations</th>\n",
       "      <th>method</th>\n",
       "      <th>classifier</th>\n",
       "      <th>dataset</th>\n",
       "      <th>performance</th>\n",
       "    </tr>\n",
       "  </thead>\n",
       "  <tbody>\n",
       "    <tr>\n",
       "      <th>0</th>\n",
       "      <td>0</td>\n",
       "      <td>7</td>\n",
       "      <td>Wrapper_NSGA2</td>\n",
       "      <td>ABCMeta</td>\n",
       "      <td>0</td>\n",
       "      <td>0.932</td>\n",
       "    </tr>\n",
       "    <tr>\n",
       "      <th>1</th>\n",
       "      <td>1</td>\n",
       "      <td>11</td>\n",
       "      <td>Wrapper_NSGA2</td>\n",
       "      <td>ABCMeta</td>\n",
       "      <td>0</td>\n",
       "      <td>0.932</td>\n",
       "    </tr>\n",
       "    <tr>\n",
       "      <th>2</th>\n",
       "      <td>2</td>\n",
       "      <td>15</td>\n",
       "      <td>Wrapper_NSGA2</td>\n",
       "      <td>ABCMeta</td>\n",
       "      <td>0</td>\n",
       "      <td>0.932</td>\n",
       "    </tr>\n",
       "    <tr>\n",
       "      <th>3</th>\n",
       "      <td>3</td>\n",
       "      <td>18</td>\n",
       "      <td>Wrapper_NSGA2</td>\n",
       "      <td>ABCMeta</td>\n",
       "      <td>0</td>\n",
       "      <td>0.932</td>\n",
       "    </tr>\n",
       "    <tr>\n",
       "      <th>4</th>\n",
       "      <td>4</td>\n",
       "      <td>20</td>\n",
       "      <td>Wrapper_NSGA2</td>\n",
       "      <td>ABCMeta</td>\n",
       "      <td>0</td>\n",
       "      <td>0.936</td>\n",
       "    </tr>\n",
       "    <tr>\n",
       "      <th>...</th>\n",
       "      <td>...</td>\n",
       "      <td>...</td>\n",
       "      <td>...</td>\n",
       "      <td>...</td>\n",
       "      <td>...</td>\n",
       "      <td>...</td>\n",
       "    </tr>\n",
       "    <tr>\n",
       "      <th>40631</th>\n",
       "      <td>40631</td>\n",
       "      <td>50</td>\n",
       "      <td>Wrapper_Fishburn</td>\n",
       "      <td>type</td>\n",
       "      <td>49</td>\n",
       "      <td>0.694</td>\n",
       "    </tr>\n",
       "    <tr>\n",
       "      <th>40632</th>\n",
       "      <td>40632</td>\n",
       "      <td>51</td>\n",
       "      <td>Wrapper_Fishburn</td>\n",
       "      <td>type</td>\n",
       "      <td>49</td>\n",
       "      <td>0.694</td>\n",
       "    </tr>\n",
       "    <tr>\n",
       "      <th>40633</th>\n",
       "      <td>40633</td>\n",
       "      <td>52</td>\n",
       "      <td>Wrapper_Fishburn</td>\n",
       "      <td>type</td>\n",
       "      <td>49</td>\n",
       "      <td>0.694</td>\n",
       "    </tr>\n",
       "    <tr>\n",
       "      <th>40634</th>\n",
       "      <td>40634</td>\n",
       "      <td>53</td>\n",
       "      <td>Wrapper_Fishburn</td>\n",
       "      <td>type</td>\n",
       "      <td>49</td>\n",
       "      <td>0.694</td>\n",
       "    </tr>\n",
       "    <tr>\n",
       "      <th>40635</th>\n",
       "      <td>40635</td>\n",
       "      <td>54</td>\n",
       "      <td>Wrapper_Fishburn</td>\n",
       "      <td>type</td>\n",
       "      <td>49</td>\n",
       "      <td>0.694</td>\n",
       "    </tr>\n",
       "  </tbody>\n",
       "</table>\n",
       "<p>40636 rows × 6 columns</p>\n",
       "</div>"
      ],
      "text/plain": [
       "       Unnamed: 0  evaluations            method classifier  dataset  \\\n",
       "0               0            7     Wrapper_NSGA2    ABCMeta        0   \n",
       "1               1           11     Wrapper_NSGA2    ABCMeta        0   \n",
       "2               2           15     Wrapper_NSGA2    ABCMeta        0   \n",
       "3               3           18     Wrapper_NSGA2    ABCMeta        0   \n",
       "4               4           20     Wrapper_NSGA2    ABCMeta        0   \n",
       "...           ...          ...               ...        ...      ...   \n",
       "40631       40631           50  Wrapper_Fishburn       type       49   \n",
       "40632       40632           51  Wrapper_Fishburn       type       49   \n",
       "40633       40633           52  Wrapper_Fishburn       type       49   \n",
       "40634       40634           53  Wrapper_Fishburn       type       49   \n",
       "40635       40635           54  Wrapper_Fishburn       type       49   \n",
       "\n",
       "       performance  \n",
       "0            0.932  \n",
       "1            0.932  \n",
       "2            0.932  \n",
       "3            0.932  \n",
       "4            0.936  \n",
       "...            ...  \n",
       "40631        0.694  \n",
       "40632        0.694  \n",
       "40633        0.694  \n",
       "40634        0.694  \n",
       "40635        0.694  \n",
       "\n",
       "[40636 rows x 6 columns]"
      ]
     },
     "execution_count": 14,
     "metadata": {},
     "output_type": "execute_result"
    }
   ],
   "source": [
    "df = pd.read_csv(\"results_1.csv\")\n",
    "df"
   ]
  },
  {
   "cell_type": "code",
   "execution_count": 15,
   "metadata": {},
   "outputs": [
    {
     "data": {
      "text/html": [
       "<div>\n",
       "<style scoped>\n",
       "    .dataframe tbody tr th:only-of-type {\n",
       "        vertical-align: middle;\n",
       "    }\n",
       "\n",
       "    .dataframe tbody tr th {\n",
       "        vertical-align: top;\n",
       "    }\n",
       "\n",
       "    .dataframe thead th {\n",
       "        text-align: right;\n",
       "    }\n",
       "</style>\n",
       "<table border=\"1\" class=\"dataframe\">\n",
       "  <thead>\n",
       "    <tr style=\"text-align: right;\">\n",
       "      <th></th>\n",
       "      <th></th>\n",
       "      <th>Unnamed: 0</th>\n",
       "      <th>dataset</th>\n",
       "      <th>performance</th>\n",
       "    </tr>\n",
       "    <tr>\n",
       "      <th>evaluations</th>\n",
       "      <th>method</th>\n",
       "      <th></th>\n",
       "      <th></th>\n",
       "      <th></th>\n",
       "    </tr>\n",
       "  </thead>\n",
       "  <tbody>\n",
       "    <tr>\n",
       "      <th>1</th>\n",
       "      <th>Wrapper_Model</th>\n",
       "      <td>20560.013333</td>\n",
       "      <td>24.500000</td>\n",
       "      <td>0.690147</td>\n",
       "    </tr>\n",
       "    <tr>\n",
       "      <th rowspan=\"2\" valign=\"top\">2</th>\n",
       "      <th>Wrapper_Fishburn</th>\n",
       "      <td>20660.013333</td>\n",
       "      <td>24.500000</td>\n",
       "      <td>0.755133</td>\n",
       "    </tr>\n",
       "    <tr>\n",
       "      <th>Wrapper_Model</th>\n",
       "      <td>20561.013333</td>\n",
       "      <td>24.500000</td>\n",
       "      <td>0.760720</td>\n",
       "    </tr>\n",
       "    <tr>\n",
       "      <th rowspan=\"2\" valign=\"top\">3</th>\n",
       "      <th>Wrapper_Fishburn</th>\n",
       "      <td>20784.794702</td>\n",
       "      <td>24.629139</td>\n",
       "      <td>0.781404</td>\n",
       "    </tr>\n",
       "    <tr>\n",
       "      <th>Wrapper_Model</th>\n",
       "      <td>20562.013333</td>\n",
       "      <td>24.500000</td>\n",
       "      <td>0.787213</td>\n",
       "    </tr>\n",
       "    <tr>\n",
       "      <th>...</th>\n",
       "      <th>...</th>\n",
       "      <td>...</td>\n",
       "      <td>...</td>\n",
       "      <td>...</td>\n",
       "    </tr>\n",
       "    <tr>\n",
       "      <th rowspan=\"2\" valign=\"top\">98</th>\n",
       "      <th>Wrapper_Model</th>\n",
       "      <td>21976.397590</td>\n",
       "      <td>28.096386</td>\n",
       "      <td>0.850651</td>\n",
       "    </tr>\n",
       "    <tr>\n",
       "      <th>Wrapper_NSGA2</th>\n",
       "      <td>21209.364407</td>\n",
       "      <td>24.423729</td>\n",
       "      <td>0.840271</td>\n",
       "    </tr>\n",
       "    <tr>\n",
       "      <th rowspan=\"3\" valign=\"top\">99</th>\n",
       "      <th>Wrapper_Fishburn</th>\n",
       "      <td>19383.115385</td>\n",
       "      <td>22.064103</td>\n",
       "      <td>0.862256</td>\n",
       "    </tr>\n",
       "    <tr>\n",
       "      <th>Wrapper_Model</th>\n",
       "      <td>22589.869565</td>\n",
       "      <td>28.173913</td>\n",
       "      <td>0.848565</td>\n",
       "    </tr>\n",
       "    <tr>\n",
       "      <th>Wrapper_NSGA2</th>\n",
       "      <td>20723.324561</td>\n",
       "      <td>25.254386</td>\n",
       "      <td>0.848474</td>\n",
       "    </tr>\n",
       "  </tbody>\n",
       "</table>\n",
       "<p>292 rows × 3 columns</p>\n",
       "</div>"
      ],
      "text/plain": [
       "                                Unnamed: 0    dataset  performance\n",
       "evaluations method                                                \n",
       "1           Wrapper_Model     20560.013333  24.500000     0.690147\n",
       "2           Wrapper_Fishburn  20660.013333  24.500000     0.755133\n",
       "            Wrapper_Model     20561.013333  24.500000     0.760720\n",
       "3           Wrapper_Fishburn  20784.794702  24.629139     0.781404\n",
       "            Wrapper_Model     20562.013333  24.500000     0.787213\n",
       "...                                    ...        ...          ...\n",
       "98          Wrapper_Model     21976.397590  28.096386     0.850651\n",
       "            Wrapper_NSGA2     21209.364407  24.423729     0.840271\n",
       "99          Wrapper_Fishburn  19383.115385  22.064103     0.862256\n",
       "            Wrapper_Model     22589.869565  28.173913     0.848565\n",
       "            Wrapper_NSGA2     20723.324561  25.254386     0.848474\n",
       "\n",
       "[292 rows x 3 columns]"
      ]
     },
     "execution_count": 15,
     "metadata": {},
     "output_type": "execute_result"
    }
   ],
   "source": [
    "df2 = df[df.evaluations < 100].groupby([\"evaluations\",\"method\"]).mean()\n",
    "df2"
   ]
  },
  {
   "cell_type": "code",
   "execution_count": 16,
   "metadata": {},
   "outputs": [
    {
     "data": {
      "text/plain": [
       "<AxesSubplot:xlabel='evaluations', ylabel='performance'>"
      ]
     },
     "execution_count": 16,
     "metadata": {},
     "output_type": "execute_result"
    },
    {
     "data": {
      "image/png": "[encoded data removed]",
      "text/plain": [
       "<Figure size 432x288 with 1 Axes>"
      ]
     },
     "metadata": {
      "needs_background": "light"
     },
     "output_type": "display_data"
    }
   ],
   "source": [
    "sns.lineplot(data=df2, x= \"evaluations\", y=\"performance\", hue=\"method\")"
   ]
  },
  {
   "cell_type": "code",
   "execution_count": null,
   "metadata": {},
   "outputs": [],
   "source": []
  }
 ],
 "metadata": {
  "kernelspec": {
   "display_name": "Python 3",
   "language": "python",
   "name": "python3"
  },
  "language_info": {
   "codemirror_mode": {
    "name": "ipython",
    "version": 3
   },
   "file_extension": ".py",
   "mimetype": "text/x-python",
   "name": "python",
   "nbconvert_exporter": "python",
   "pygments_lexer": "ipython3",
   "version": "3.8.8"
  }
 },
 "nbformat": 4,
 "nbformat_minor": 1
}
