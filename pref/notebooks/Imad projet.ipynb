{
 "cells": [
  {
   "cell_type": "code",
   "execution_count": 2,
   "id": "b5d88730",
   "metadata": {},
   "outputs": [],
   "source": [
    "from docplex.mp.model import Model\n",
    "import numpy as np\n",
    "import pandas as pd\n",
    "import itertools\n",
    "from tqdm.notebook import tqdm\n",
    "import operator\n",
    "import math"
   ]
  },
  {
   "cell_type": "code",
   "execution_count": 49,
   "id": "3f05d8a0",
   "metadata": {},
   "outputs": [],
   "source": [
    "N = 45\n",
    "K = 4\n",
    "\n",
    "mdl = Model(\"Integer Coloration\")\n",
    "variables = mdl.integer_var_dict([i for i in range(N)], name=lambda x:\"c_\"+str(x), lb = 1, ub = K)\n",
    "\n",
    "A = itertools.product(range(1,N), repeat= 3)\n",
    "L = [i for i in list(A) if sum(i[:2]) == i[2]]\n",
    "for x,y,z in L[1:]:\n",
    "    if(x != y and y != z and x!= z):\n",
    "        an = mdl.logical_and(variables[x] == variables[y])\n",
    "        mdl.add_if_then(an == 1, variables[x] != variables[z] )\n",
    "    \n",
    "        an = mdl.logical_and(variables[x] == variables[z])\n",
    "        mdl.add_if_then(an == 1, variables[x] != variables[y] )\n",
    "    \n",
    "    \n",
    "        an = mdl.logical_and(variables[y] == variables[z])\n",
    "        mdl.add_if_then(an == 1, variables[x] != variables[z] )\n",
    "    else:\n",
    "        s = list(set([x,y,z]))\n",
    "        mdl.add_constraint(variables[s[0]] != variables[s[1]]) "
   ]
  },
  {
   "cell_type": "code",
   "execution_count": 50,
   "id": "fbb78e5e",
   "metadata": {},
   "outputs": [
    {
     "name": "stdout",
     "output_type": "stream",
     "text": [
      "Version identifier: 20.1.0.0 | 2020-11-10 | 9bedb6d68\n",
      "CPXPARAM_Read_DataCheck                          1\n",
      "Tried aggregator 2 times.\n",
      "MIP Presolve eliminated 21 rows and 22 columns.\n",
      "MIP Presolve modified 4619 coefficients.\n",
      "Aggregator did 4640 substitutions.\n",
      "Reduced MIP has 20392 rows, 17643 columns, and 47274 nonzeros.\n",
      "Reduced MIP has 16653 binaries, 44 generals, 0 SOSs, and 0 indicators.\n",
      "Presolve time = 0.05 sec. (179.36 ticks)\n",
      "Probing time = 0.02 sec. (6.26 ticks)\n",
      "Tried aggregator 2 times.\n",
      "Detecting symmetries...\n",
      "Aggregator did 8 substitutions.\n",
      "Reduced MIP has 20384 rows, 17635 columns, and 47266 nonzeros.\n",
      "Reduced MIP has 16653 binaries, 982 generals, 0 SOSs, and 0 indicators.\n",
      "Presolve time = 0.05 sec. (46.04 ticks)\n",
      "Probing time = 0.02 sec. (8.65 ticks)\n",
      "Clique table members: 33644.\n",
      "MIP emphasis: balance optimality and feasibility.\n",
      "MIP search method: dynamic search.\n",
      "Parallel mode: deterministic, using up to 8 threads.\n",
      "Root relaxation solution time = 0.10 sec. (119.31 ticks)\n",
      "\n",
      "        Nodes                                         Cuts/\n",
      "   Node  Left     Objective  IInf  Best Integer    Best Bound    ItCnt     Gap\n",
      "\n",
      "      0     0        0.0000  6941                      0.0000      951         \n",
      "*     0+    0                            0.0000        0.0000             0.00%\n",
      "      0     0        cutoff              0.0000        0.0000     2552    0.00%\n",
      "Elapsed time = 2.44 sec. (1549.01 ticks, tree = 0.01 MB, solutions = 1)\n",
      "\n",
      "Clique cuts applied:  1129\n",
      "Cover cuts applied:  352\n",
      "Implied bound cuts applied:  8\n",
      "Zero-half cuts applied:  117\n",
      "Gomory fractional cuts applied:  16\n",
      "\n",
      "Root node processing (before b&c):\n",
      "  Real time             =    2.45 sec. (1549.49 ticks)\n",
      "Parallel b&c, 8 threads:\n",
      "  Real time             =    0.00 sec. (0.00 ticks)\n",
      "  Sync time (average)   =    0.00 sec.\n",
      "  Wait time (average)   =    0.00 sec.\n",
      "                          ------------\n",
      "Total (root+branch&cut) =    2.45 sec. (1549.49 ticks)\n"
     ]
    },
    {
     "data": {
      "text/plain": [
       "docplex.mp.solution.SolveSolution(obj=0,values={c_0:1,c_1:3,c_2:3,c_3:4,.."
      ]
     },
     "execution_count": 50,
     "metadata": {},
     "output_type": "execute_result"
    }
   ],
   "source": [
    "#mdl.minimize(mdl.max(variables))\n",
    "mdl.solve(log_output = True)"
   ]
  },
  {
   "cell_type": "code",
   "execution_count": 51,
   "id": "11042da7",
   "metadata": {},
   "outputs": [
    {
     "name": "stdout",
     "output_type": "stream",
     "text": [
      "0 : 1.0\n",
      "1 : 3.0\n",
      "2 : 3.0\n",
      "3 : 4.0\n",
      "4 : 4.0\n",
      "5 : 1.0\n",
      "6 : 1.0\n",
      "7 : 1.0\n",
      "8 : 1.0\n",
      "9 : 3.0\n",
      "10 : 4.0\n",
      "11 : 4.0\n",
      "12 : 3.0\n",
      "13 : 2.0\n",
      "14 : 2.0\n",
      "15 : 3.0\n",
      "16 : 4.0\n",
      "17 : 1.0\n",
      "18 : 1.0\n",
      "19 : 3.0\n",
      "20 : 2.0\n",
      "21 : 2.0\n",
      "22 : 2.0\n",
      "23 : 2.0\n",
      "24 : 2.0\n",
      "25 : 2.0\n",
      "26 : 3.0\n",
      "27 : 1.0\n",
      "28 : 1.0\n",
      "29 : 2.0\n",
      "30 : 2.0\n",
      "31 : 2.0\n",
      "32 : 2.0\n",
      "33 : 3.0\n",
      "34 : 4.0\n",
      "35 : 4.0\n",
      "36 : 4.0\n",
      "37 : 1.0\n",
      "38 : 1.0\n",
      "39 : 1.0\n",
      "40 : 1.0\n",
      "41 : 1.0\n",
      "42 : 4.0\n",
      "43 : 4.0\n",
      "44 : 3.0\n"
     ]
    }
   ],
   "source": [
    "parties = {}\n",
    "for c in variables:\n",
    "    print(c, \":\", variables[c].solution_value)\n",
    "    parties[variables[c].solution_value] = parties.get(variables[c].solution_value, []) + [c]"
   ]
  },
  {
   "cell_type": "code",
   "execution_count": 45,
   "id": "9087b17d",
   "metadata": {},
   "outputs": [
    {
     "data": {
      "text/plain": [
       "{4.0: [0, 10, 12],\n",
       " 10.0: [1],\n",
       " 5.0: [2, 7, 11],\n",
       " 8.0: [3],\n",
       " 7.0: [4, 9],\n",
       " 6.0: [5, 8],\n",
       " 9.0: [6]}"
      ]
     },
     "execution_count": 45,
     "metadata": {},
     "output_type": "execute_result"
    }
   ],
   "source": [
    "parties"
   ]
  },
  {
   "cell_type": "code",
   "execution_count": null,
   "id": "99a15eac",
   "metadata": {},
   "outputs": [],
   "source": []
  }
 ],
 "metadata": {
  "kernelspec": {
   "display_name": "Python 3",
   "language": "python",
   "name": "python3"
  },
  "language_info": {
   "codemirror_mode": {
    "name": "ipython",
    "version": 3
   },
   "file_extension": ".py",
   "mimetype": "text/x-python",
   "name": "python",
   "nbconvert_exporter": "python",
   "pygments_lexer": "ipython3",
   "version": "3.8.8"
  }
 },
 "nbformat": 4,
 "nbformat_minor": 5
}
