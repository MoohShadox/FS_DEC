{
 "cells": [
  {
   "cell_type": "code",
   "execution_count": 257,
   "metadata": {},
   "outputs": [],
   "source": [
    "import numpy as np\n",
    "import pandas as pd\n",
    "import itertools\n",
    "from pulp import *\n",
    "from tqdm.notebook import tqdm"
   ]
  },
  {
   "cell_type": "code",
   "execution_count": 258,
   "metadata": {},
   "outputs": [],
   "source": [
    "def pareto_dominance(x, y, **kwargs):\n",
    "    return np.greater_equal(x,y).all() and np.greater(x,y).any()"
   ]
  },
  {
   "cell_type": "code",
   "execution_count": 259,
   "metadata": {},
   "outputs": [],
   "source": [
    "class Preference_DB:\n",
    "    \n",
    "    def __init__(self, items):\n",
    "        self.items = items\n",
    "        self.subsets = {}\n",
    "    \n",
    "    def register(self, subset, performance):\n",
    "        pass\n",
    "    \n",
    "    def getRelation(self, relation_f, **kwargs):\n",
    "        R = []\n",
    "        print(\"Getting dominance\")\n",
    "        pbar = tqdm(total=len(self.subsets)*len(self.subsets)) \n",
    "        for k in self.subsets:\n",
    "            for j in self.subsets:\n",
    "                if(relation_f(self.subsets[k], self.subsets[j], **kwargs)):\n",
    "                    if((k,j) not in R):\n",
    "                        R.append((k,j))\n",
    "                pbar.update(1)\n",
    "        return R\n",
    "    \n",
    "    def compute_subsets_from_u(self, n_subsets, u):\n",
    "        \"\"\"\n",
    "        u: S -> u(S)\n",
    "        where S is a subset and S1 dominates S2 if and only if u(S1) >= u(S2)\n",
    "        \"\"\"\n",
    "        print(\"Sampling subsets\")\n",
    "        for i in tqdm(range(n_subsets)):\n",
    "            k = np.random.randint(1, self.items.shape[0])\n",
    "            subset = tuple(sorted(set(np.random.choice(self.items, k))))\n",
    "            if not (subset in self.subsets):\n",
    "                self.subsets[subset] = np.array([u(subset)])\n"
   ]
  },
  {
   "cell_type": "code",
   "execution_count": 260,
   "metadata": {},
   "outputs": [],
   "source": [
    "class Additive_Utility_Function:\n",
    "    \n",
    "    def __init__(self, items_set):\n",
    "        self.items_set = items_set\n",
    "        self.theta = {}\n",
    "    \n",
    "    def add_coefficient(self, subset, coefficient):\n",
    "        self.theta[tuple(sorted(subset))] = coefficient\n",
    "        \n",
    "    def sample_random_coeffs(self, k ):\n",
    "        print(\"Sampling random coefs\")\n",
    "        for i in tqdm(range(1,k+1)):\n",
    "            coeffs = itertools.combinations(self.items_set, i)\n",
    "            for c in coeffs:\n",
    "                r = np.random.random()\n",
    "                if c not in self.theta:\n",
    "                    self.theta[c] = r\n",
    "    \n",
    "    def __call__(self, subset):\n",
    "        s = 0\n",
    "        for k in self.theta:\n",
    "            if all(j in subset for j in k):\n",
    "                s += self.theta[k]\n",
    "        return s"
   ]
  },
  {
   "cell_type": "code",
   "execution_count": 261,
   "metadata": {},
   "outputs": [
    {
     "name": "stdout",
     "output_type": "stream",
     "text": [
      "Sampling random coefs\n"
     ]
    },
    {
     "data": {
      "application/vnd.jupyter.widget-view+json": {
       "model_id": "dbcca91aa783499da616494788847630",
       "version_major": 2,
       "version_minor": 0
      },
      "text/plain": [
       "  0%|          | 0/2 [00:00<?, ?it/s]"
      ]
     },
     "metadata": {},
     "output_type": "display_data"
    },
    {
     "data": {
      "text/plain": [
       "1.74924575484784"
      ]
     },
     "execution_count": 261,
     "metadata": {},
     "output_type": "execute_result"
    }
   ],
   "source": [
    "U = Additive_Utility_Function([1, 2, 3, 4])\n",
    "U.sample_random_coeffs(2)\n",
    "U([1,3])"
   ]
  },
  {
   "cell_type": "code",
   "execution_count": 262,
   "metadata": {},
   "outputs": [
    {
     "data": {
      "text/plain": [
       "{(1,): 0.7916968904089882,\n",
       " (2,): 0.0019826956849219313,\n",
       " (3,): 0.4697410810291759,\n",
       " (4,): 0.9902759287415382,\n",
       " (1, 2): 0.5255630095912255,\n",
       " (1, 3): 0.487807783409676,\n",
       " (1, 4): 0.6688381070636118,\n",
       " (2, 3): 0.3836636266133291,\n",
       " (2, 4): 0.06928916125852791,\n",
       " (3, 4): 0.7618784716329937}"
      ]
     },
     "execution_count": 262,
     "metadata": {},
     "output_type": "execute_result"
    }
   ],
   "source": [
    "U.theta"
   ]
  },
  {
   "cell_type": "code",
   "execution_count": 355,
   "metadata": {},
   "outputs": [],
   "source": [
    "class Utility_Fitter:\n",
    "    \n",
    "    def __init__(self):\n",
    "        pass\n",
    "    \n",
    "    def fit(self, preferences):\n",
    "        pass\n",
    "    \n",
    "    def predict(self, subset):\n",
    "        pass\n",
    "\n",
    "class Additive_Utility_Fitter:\n",
    "    \n",
    "    def __init__(self, items_set, k):\n",
    "        super().__init__()\n",
    "        self.k = k\n",
    "        self.problem = LpProblem(\"Utility_Fitting\")\n",
    "        self.theta = {}\n",
    "        self.gap = {}\n",
    "        self.items_set = items_set\n",
    "        self.preferences = []\n",
    "        self.max_gap = 1\n",
    "\n",
    "    \n",
    "    def get_utility_exp(self, subset):\n",
    "        exp = 0\n",
    "        for c in self.theta:\n",
    "            if(all(i in subset for i in c)):\n",
    "                exp += self.theta[c]\n",
    "        return exp\n",
    "    \n",
    "    def evaluate(self, subset):\n",
    "        s = 0\n",
    "        for k in self.theta:\n",
    "            if all(j in subset for j in subset):\n",
    "                s += value(self.theta[k])\n",
    "        return s\n",
    "    \n",
    "    def compare(self, preferences, subset1 ,subset2):\n",
    "        self.preferences = preferences\n",
    "        print(\"Creating variables\")\n",
    "        for i in tqdm(range(1,self.k+1)):\n",
    "            coeffs = itertools.combinations(self.items_set, i)\n",
    "            for c in coeffs:\n",
    "                r = np.random.normal(0, 1)\n",
    "                if c not in self.theta:\n",
    "                    self.theta[c] = LpVariable(\"v_\"+\"_\".join([str(a) for a in c])) \n",
    "                    self.theta[c].setInitialValue(0)\n",
    "                    \n",
    "        print(\"Creating constraints:\")\n",
    "        for x,y in tqdm(self.preferences):\n",
    "            self.gap[(x,y)] = LpVariable(name = \"p_\"+\"\".join(map(str,x)) + \"_\" + \"\".join(map(str,y)))\n",
    "            self.problem += (self.gap[(x,y)] >= self.max_gap)\n",
    "            cst = (self.get_utility_exp(x) >= self.get_utility_exp(y) + self.gap[(x,y)])\n",
    "            print(\"cst: \", cst)\n",
    "            print(\"p: \",(self.gap[(x,y)] >= self.max_gap))\n",
    "\n",
    "\n",
    "        obj = -(self.get_utility_exp(subset1) - self.get_utility_exp(subset2))\n",
    "        \n",
    "        print(\"obj: \", obj)\n",
    "        self.problem +=obj\n",
    "        t = time()\n",
    "        self.problem.solve()\n",
    "        t = time() - t\n",
    "        print(f\"Solved in : {t} s\")\n",
    "        print(\"Status:\", LpStatus[self.problem.status])\n",
    "        \n",
    "    \n",
    "    def fit(self, preferences):\n",
    "        self.preferences = preferences\n",
    "        print(\"Creating variables\")\n",
    "        for i in tqdm(range(1,self.k+1)):\n",
    "            coeffs = itertools.combinations(self.items_set, i)\n",
    "            for c in coeffs:\n",
    "                r = np.random.normal(0, 1)\n",
    "                if c not in self.theta:\n",
    "                    self.theta[c] = LpVariable(\"v_\"+\"_\".join([str(a) for a in c])) \n",
    "                    self.theta[c].setInitialValue(0)\n",
    "        print(\"Creating constraints:\")\n",
    "        for x,y in tqdm(self.preferences):\n",
    "            self.gap[(x,y)] = LpVariable(name = \"p_\"+\"\".join(map(str,x)) + \"_\" + \"\".join(map(str,y)))\n",
    "            self.problem += (self.gap[(x,y)] >= self.max_gap)\n",
    "            cst = (self.get_utility_exp(x) >= self.get_utility_exp(y) + self.gap[(x,y)])\n",
    "            print(\"cst: \", cst)\n",
    "            print(\"p: \",(self.gap[(x,y)] >= self.max_gap))\n",
    "            self.problem += cst\n",
    "        \n",
    "        self.problem += sum(self.gap.values())\n",
    "        t = time()\n",
    "        self.problem.solve()\n",
    "        t = time() - t\n",
    "        print(f\"Solved in : {t} s\")\n",
    "        print(\"Status:\", LpStatus[self.problem.status])\n",
    "        for k in self.theta:\n",
    "            if(value(self.theta[k]) != 0):\n",
    "                print(self.theta[k], \": \", value(self.theta[k]))\n",
    "                \n",
    "    def print_gaps(self):\n",
    "        for c in self.gap:\n",
    "            print(self.gap[c], \" : \", value(self.gap[c]))\n",
    "        pass"
   ]
  },
  {
   "cell_type": "code",
   "execution_count": 356,
   "metadata": {},
   "outputs": [
    {
     "name": "stdout",
     "output_type": "stream",
     "text": [
      "Sampling random coefs\n"
     ]
    },
    {
     "data": {
      "application/vnd.jupyter.widget-view+json": {
       "model_id": "ca15a542e5b24e3299d69d9320f50c73",
       "version_major": 2,
       "version_minor": 0
      },
      "text/plain": [
       "  0%|          | 0/2 [00:00<?, ?it/s]"
      ]
     },
     "metadata": {},
     "output_type": "display_data"
    },
    {
     "name": "stdout",
     "output_type": "stream",
     "text": [
      "Sampling subsets\n"
     ]
    },
    {
     "data": {
      "application/vnd.jupyter.widget-view+json": {
       "model_id": "78c9ebf4517842c29e4275bfb0794a10",
       "version_major": 2,
       "version_minor": 0
      },
      "text/plain": [
       "  0%|          | 0/10 [00:00<?, ?it/s]"
      ]
     },
     "metadata": {},
     "output_type": "display_data"
    },
    {
     "name": "stdout",
     "output_type": "stream",
     "text": [
      "Getting dominance\n"
     ]
    },
    {
     "data": {
      "application/vnd.jupyter.widget-view+json": {
       "model_id": "e08d0ea306a649489c24e2486be243b9",
       "version_major": 2,
       "version_minor": 0
      },
      "text/plain": [
       "  0%|          | 0/16 [00:00<?, ?it/s]"
      ]
     },
     "metadata": {},
     "output_type": "display_data"
    },
    {
     "data": {
      "text/plain": [
       "[((1,), (2,)),\n",
       " ((0,), (2,)),\n",
       " ((0,), (1,)),\n",
       " ((0, 2), (2,)),\n",
       " ((0, 2), (1,)),\n",
       " ((0, 2), (0,))]"
      ]
     },
     "execution_count": 356,
     "metadata": {},
     "output_type": "execute_result"
    }
   ],
   "source": [
    "DB = Preference_DB(np.arange(3))\n",
    "U = Additive_Utility_Function(DB.items)\n",
    "U.sample_random_coeffs(2)\n",
    "DB.compute_subsets_from_u(10,U)\n",
    "pref_list = DB.getRelation(pareto_dominance)\n",
    "pref_list"
   ]
  },
  {
   "cell_type": "code",
   "execution_count": 359,
   "metadata": {},
   "outputs": [
    {
     "name": "stdout",
     "output_type": "stream",
     "text": [
      "Creating variables\n"
     ]
    },
    {
     "data": {
      "application/vnd.jupyter.widget-view+json": {
       "model_id": "d21070fd71c54dcb9cb9412229ca01de",
       "version_major": 2,
       "version_minor": 0
      },
      "text/plain": [
       "  0%|          | 0/2 [00:00<?, ?it/s]"
      ]
     },
     "metadata": {},
     "output_type": "display_data"
    },
    {
     "name": "stdout",
     "output_type": "stream",
     "text": [
      "Creating constraints:\n"
     ]
    },
    {
     "data": {
      "application/vnd.jupyter.widget-view+json": {
       "model_id": "002eb8dcf25c470c8bc68dacbe676621",
       "version_major": 2,
       "version_minor": 0
      },
      "text/plain": [
       "  0%|          | 0/1 [00:00<?, ?it/s]"
      ]
     },
     "metadata": {},
     "output_type": "display_data"
    },
    {
     "name": "stdout",
     "output_type": "stream",
     "text": [
      "cst:  -p_1_0 - v_0 + v_1 >= 0\n",
      "p:  p_1_0 >= 1\n",
      "obj:  v_0 - v_1\n",
      "Solved in : 0.018254518508911133 s\n",
      "Status: Unbounded\n",
      "p_1_0  :  1.0\n"
     ]
    }
   ],
   "source": [
    "AD = Additive_Utility_Fitter(DB.items, k=2)\n",
    "AD.compare([((1,), (0, ))], (1,) , (0,))\n",
    "AD.print_gaps()"
   ]
  },
  {
   "cell_type": "code",
   "execution_count": 360,
   "metadata": {},
   "outputs": [
    {
     "name": "stdout",
     "output_type": "stream",
     "text": [
      "Creating variables\n"
     ]
    },
    {
     "data": {
      "application/vnd.jupyter.widget-view+json": {
       "model_id": "223e869e96af49319ab31931cd93901d",
       "version_major": 2,
       "version_minor": 0
      },
      "text/plain": [
       "  0%|          | 0/2 [00:00<?, ?it/s]"
      ]
     },
     "metadata": {},
     "output_type": "display_data"
    },
    {
     "name": "stdout",
     "output_type": "stream",
     "text": [
      "Creating constraints:\n"
     ]
    },
    {
     "data": {
      "application/vnd.jupyter.widget-view+json": {
       "model_id": "2ed2a7b761234f28828aea1c76941b2d",
       "version_major": 2,
       "version_minor": 0
      },
      "text/plain": [
       "  0%|          | 0/6 [00:00<?, ?it/s]"
      ]
     },
     "metadata": {},
     "output_type": "display_data"
    },
    {
     "name": "stdout",
     "output_type": "stream",
     "text": [
      "cst:  -p_1_2 + v_1 - v_2 >= 0\n",
      "p:  p_1_2 >= 1\n",
      "cst:  -p_0_2 + v_0 - v_2 >= 0\n",
      "p:  p_0_2 >= 1\n",
      "cst:  -p_0_1 + v_0 - v_1 >= 0\n",
      "p:  p_0_1 >= 1\n",
      "cst:  -p_02_2 + v_0 + v_0_2 + 0*v_2 >= 0\n",
      "p:  p_02_2 >= 1\n",
      "cst:  -p_02_1 + v_0 + v_0_2 - v_1 + v_2 >= 0\n",
      "p:  p_02_1 >= 1\n",
      "cst:  -p_02_0 + 0*v_0 + v_0_2 + v_2 >= 0\n",
      "p:  p_02_0 >= 1\n",
      "Solved in : 0.017202377319335938 s\n",
      "Status: Optimal\n",
      "v_0 :  2.0\n",
      "v_1 :  1.0\n",
      "v_0_2 :  1.0\n"
     ]
    }
   ],
   "source": [
    "AD = Additive_Utility_Fitter(DB.items, k=2)\n",
    "AD.fit(pref_list)"
   ]
  },
  {
   "cell_type": "code",
   "execution_count": 361,
   "metadata": {},
   "outputs": [],
   "source": [
    "for x,y in pref_list:\n",
    "    x_val = value(AD.get_utility_exp(x))\n",
    "    y_val = value(AD.get_utility_exp(y))\n",
    "    if(not x_val > y_val):\n",
    "        print(x, \" : \",x_val, \" > \", y , \" : \", y_val)"
   ]
  },
  {
   "cell_type": "code",
   "execution_count": null,
   "metadata": {},
   "outputs": [],
   "source": []
  },
  {
   "cell_type": "code",
   "execution_count": null,
   "metadata": {},
   "outputs": [],
   "source": []
  }
 ],
 "metadata": {
  "kernelspec": {
   "display_name": "Python 3",
   "language": "python",
   "name": "python3"
  },
  "language_info": {
   "codemirror_mode": {
    "name": "ipython",
    "version": 3
   },
   "file_extension": ".py",
   "mimetype": "text/x-python",
   "name": "python",
   "nbconvert_exporter": "python",
   "pygments_lexer": "ipython3",
   "version": "3.8.8"
  }
 },
 "nbformat": 4,
 "nbformat_minor": 1
}
