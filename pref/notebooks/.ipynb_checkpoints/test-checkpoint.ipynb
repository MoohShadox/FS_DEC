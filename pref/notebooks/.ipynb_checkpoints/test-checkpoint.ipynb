{
 "cells": [
  {
   "cell_type": "code",
   "execution_count": 83,
   "metadata": {},
   "outputs": [
    {
     "data": {
      "text/plain": [
       "[(1, 2), (1, 3), (2, 3)]"
      ]
     },
     "execution_count": 83,
     "metadata": {},
     "output_type": "execute_result"
    }
   ],
   "source": [
    "import numpy as np\n",
    "import pandas as pd\n",
    "import itertools\n",
    "\n",
    "L = itertools.combinations([1,2,3], 2)\n",
    "list(L)"
   ]
  },
  {
   "cell_type": "code",
   "execution_count": 89,
   "metadata": {},
   "outputs": [],
   "source": [
    "def pareto_dominance(x, y, **kwargs):\n",
    "    return np.greater_equal(x,y).all() and np.greater(x,y).any()"
   ]
  },
  {
   "cell_type": "code",
   "execution_count": 92,
   "metadata": {},
   "outputs": [],
   "source": [
    "class Preference_DB:\n",
    "    \n",
    "    def __init__(self, items):\n",
    "        self.items = items\n",
    "        self.subsets = {}\n",
    "    \n",
    "    def register(self, subset, performance):\n",
    "        pass\n",
    "    \n",
    "    def getRelation(self, relation_f, **kwargs):\n",
    "        R = []\n",
    "        for k in self.subsets:\n",
    "            for j in self.subsets:\n",
    "                if(relation_f(self.subsets[k], self.subsets[j], **kwargs)):\n",
    "                    R.append((k,j))\n",
    "        return R\n",
    "    \n",
    "    def compute_subsets_from_u(self, n_subsets, u):\n",
    "        \"\"\"\n",
    "        u: S -> u(S)\n",
    "        where S is a subset and S1 dominates S2 if and only if u(S1) >= u(S2)\n",
    "        \"\"\"\n",
    "        for i in range(n_subsets):\n",
    "            k = np.random.randint(1, self.items.shape[0])\n",
    "            subset = np.random.choice(self.items, k)\n",
    "            self.subsets[tuple(sorted(subset))] = np.array([u(subset)])\n",
    "        print(self.subsets)"
   ]
  },
  {
   "cell_type": "code",
   "execution_count": 97,
   "metadata": {},
   "outputs": [
    {
     "name": "stdout",
     "output_type": "stream",
     "text": [
      "{(0, 0, 3, 6, 6, 7, 8, 9): array([0.19186828]), (0, 1, 6, 7): array([0.00534806]), (0, 3, 4, 4, 4, 4, 6, 8): array([1.09607348]), (4, 6, 8, 9, 9, 9, 9): array([-0.29011682]), (0, 3, 4, 5, 6, 9, 9): array([1.09607348]), (0, 0, 3, 6, 7): array([0.19186828]), (0, 0, 3, 4, 5, 6): array([1.09607348]), (1, 2, 5, 7): array([-1.44661974]), (0, 0, 1, 1, 2, 4, 7): array([-0.79218191]), (0, 2, 3, 5, 6, 6, 7, 9, 9): array([-0.89740527])}\n"
     ]
    },
    {
     "data": {
      "text/plain": [
       "[((0, 0, 3, 6, 6, 7, 8, 9), (0, 1, 6, 7)),\n",
       " ((0, 0, 3, 6, 6, 7, 8, 9), (4, 6, 8, 9, 9, 9, 9)),\n",
       " ((0, 0, 3, 6, 6, 7, 8, 9), (1, 2, 5, 7)),\n",
       " ((0, 0, 3, 6, 6, 7, 8, 9), (0, 0, 1, 1, 2, 4, 7)),\n",
       " ((0, 0, 3, 6, 6, 7, 8, 9), (0, 2, 3, 5, 6, 6, 7, 9, 9)),\n",
       " ((0, 1, 6, 7), (4, 6, 8, 9, 9, 9, 9)),\n",
       " ((0, 1, 6, 7), (1, 2, 5, 7)),\n",
       " ((0, 1, 6, 7), (0, 0, 1, 1, 2, 4, 7)),\n",
       " ((0, 1, 6, 7), (0, 2, 3, 5, 6, 6, 7, 9, 9)),\n",
       " ((0, 3, 4, 4, 4, 4, 6, 8), (0, 0, 3, 6, 6, 7, 8, 9)),\n",
       " ((0, 3, 4, 4, 4, 4, 6, 8), (0, 1, 6, 7)),\n",
       " ((0, 3, 4, 4, 4, 4, 6, 8), (4, 6, 8, 9, 9, 9, 9)),\n",
       " ((0, 3, 4, 4, 4, 4, 6, 8), (0, 0, 3, 6, 7)),\n",
       " ((0, 3, 4, 4, 4, 4, 6, 8), (1, 2, 5, 7)),\n",
       " ((0, 3, 4, 4, 4, 4, 6, 8), (0, 0, 1, 1, 2, 4, 7)),\n",
       " ((0, 3, 4, 4, 4, 4, 6, 8), (0, 2, 3, 5, 6, 6, 7, 9, 9)),\n",
       " ((4, 6, 8, 9, 9, 9, 9), (1, 2, 5, 7)),\n",
       " ((4, 6, 8, 9, 9, 9, 9), (0, 0, 1, 1, 2, 4, 7)),\n",
       " ((4, 6, 8, 9, 9, 9, 9), (0, 2, 3, 5, 6, 6, 7, 9, 9)),\n",
       " ((0, 3, 4, 5, 6, 9, 9), (0, 0, 3, 6, 6, 7, 8, 9)),\n",
       " ((0, 3, 4, 5, 6, 9, 9), (0, 1, 6, 7)),\n",
       " ((0, 3, 4, 5, 6, 9, 9), (4, 6, 8, 9, 9, 9, 9)),\n",
       " ((0, 3, 4, 5, 6, 9, 9), (0, 0, 3, 6, 7)),\n",
       " ((0, 3, 4, 5, 6, 9, 9), (1, 2, 5, 7)),\n",
       " ((0, 3, 4, 5, 6, 9, 9), (0, 0, 1, 1, 2, 4, 7)),\n",
       " ((0, 3, 4, 5, 6, 9, 9), (0, 2, 3, 5, 6, 6, 7, 9, 9)),\n",
       " ((0, 0, 3, 6, 7), (0, 1, 6, 7)),\n",
       " ((0, 0, 3, 6, 7), (4, 6, 8, 9, 9, 9, 9)),\n",
       " ((0, 0, 3, 6, 7), (1, 2, 5, 7)),\n",
       " ((0, 0, 3, 6, 7), (0, 0, 1, 1, 2, 4, 7)),\n",
       " ((0, 0, 3, 6, 7), (0, 2, 3, 5, 6, 6, 7, 9, 9)),\n",
       " ((0, 0, 3, 4, 5, 6), (0, 0, 3, 6, 6, 7, 8, 9)),\n",
       " ((0, 0, 3, 4, 5, 6), (0, 1, 6, 7)),\n",
       " ((0, 0, 3, 4, 5, 6), (4, 6, 8, 9, 9, 9, 9)),\n",
       " ((0, 0, 3, 4, 5, 6), (0, 0, 3, 6, 7)),\n",
       " ((0, 0, 3, 4, 5, 6), (1, 2, 5, 7)),\n",
       " ((0, 0, 3, 4, 5, 6), (0, 0, 1, 1, 2, 4, 7)),\n",
       " ((0, 0, 3, 4, 5, 6), (0, 2, 3, 5, 6, 6, 7, 9, 9)),\n",
       " ((0, 0, 1, 1, 2, 4, 7), (1, 2, 5, 7)),\n",
       " ((0, 0, 1, 1, 2, 4, 7), (0, 2, 3, 5, 6, 6, 7, 9, 9)),\n",
       " ((0, 2, 3, 5, 6, 6, 7, 9, 9), (1, 2, 5, 7))]"
      ]
     },
     "execution_count": 97,
     "metadata": {},
     "output_type": "execute_result"
    }
   ],
   "source": [
    "DB = Preference_DB(np.arange(10))\n",
    "DB.compute_subsets_from_u(10,U)\n",
    "DB.getRelation(pareto_dominance)"
   ]
  },
  {
   "cell_type": "code",
   "execution_count": 86,
   "metadata": {},
   "outputs": [],
   "source": [
    "class Additive_Utility_Function:\n",
    "    \n",
    "    def __init__(self, items_set):\n",
    "        self.items_set = items_set\n",
    "        self.theta = {}\n",
    "    \n",
    "    def add_coefficient(self, subset, coefficient):\n",
    "        self.theta[tuple(sorted(subset))] = coefficient\n",
    "        \n",
    "    def sample_random_coeffs(self, k ):\n",
    "        for i in range(1,k+1):\n",
    "            coeffs = itertools.combinations(self.items_set, i)\n",
    "            for c in coeffs:\n",
    "                r = np.random.normal(0, 1)\n",
    "                if c not in self.theta:\n",
    "                    self.theta[c] = r\n",
    "    \n",
    "    def __call__(self, subset):\n",
    "        s = 0\n",
    "        for k in self.theta:\n",
    "            if all(j in subset for j in k):\n",
    "                s += self.theta[k]\n",
    "        return s"
   ]
  },
  {
   "cell_type": "code",
   "execution_count": 87,
   "metadata": {},
   "outputs": [
    {
     "data": {
      "text/plain": [
       "-0.18826387769270791"
      ]
     },
     "execution_count": 87,
     "metadata": {},
     "output_type": "execute_result"
    }
   ],
   "source": [
    "U = Additive_Utility_Function([1, 2, 3, 4])\n",
    "U.sample_random_coeffs(2)\n",
    "U([1,3])"
   ]
  },
  {
   "cell_type": "code",
   "execution_count": 88,
   "metadata": {},
   "outputs": [
    {
     "data": {
      "text/plain": [
       "{(1,): 0.005348063325792148,\n",
       " (2,): -0.774707989899964,\n",
       " (3,): 0.19186828042552959,\n",
       " (4,): -0.29011681956714885,\n",
       " (1, 2): -0.6772598111995227,\n",
       " (1, 3): -0.38548022144402966,\n",
       " (1, 4): 0.4199198414948932,\n",
       " (2, 3): -0.31456555813795173,\n",
       " (2, 4): 0.5246348037547716,\n",
       " (3, 4): 1.1943220188262584}"
      ]
     },
     "execution_count": 88,
     "metadata": {},
     "output_type": "execute_result"
    }
   ],
   "source": [
    "U.theta"
   ]
  },
  {
   "cell_type": "code",
   "execution_count": null,
   "metadata": {},
   "outputs": [],
   "source": []
  },
  {
   "cell_type": "code",
   "execution_count": null,
   "metadata": {},
   "outputs": [],
   "source": []
  }
 ],
 "metadata": {
  "kernelspec": {
   "display_name": "Python 3",
   "language": "python",
   "name": "python3"
  },
  "language_info": {
   "codemirror_mode": {
    "name": "ipython",
    "version": 3
   },
   "file_extension": ".py",
   "mimetype": "text/x-python",
   "name": "python",
   "nbconvert_exporter": "python",
   "pygments_lexer": "ipython3",
   "version": "3.8.8"
  }
 },
 "nbformat": 4,
 "nbformat_minor": 1
}
